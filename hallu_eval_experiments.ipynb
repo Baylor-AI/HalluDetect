{
  "cells": [
    {
      "cell_type": "markdown",
      "metadata": {
        "id": "bx32UcwtcrK5"
      },
      "source": [
        "## Connect to your Google Drive or any filesystem you are going to use."
      ]
    },
    {
      "cell_type": "code",
      "execution_count": null,
      "metadata": {
        "colab": {
          "base_uri": "https://localhost:8080/"
        },
        "id": "kzIyxG0kMvLg",
        "outputId": "5b9a72a4-7735-4406-c3c5-be14e2993fed"
      },
      "outputs": [],
      "source": [
        "import sys\n",
        "from pathlib import Path\n",
        "\n",
        "IN_COLAB = \"google.colab\" in sys.modules\n",
        "if IN_COLAB:\n",
        "    from google.colab import drive\n",
        "\n",
        "    drive.mount(\"/content/gdrive\")\n",
        "base_path = (\n",
        "    Path(\"your_path\") if IN_COLAB else Path(\".\")\n",
        ")\n",
        "\n",
        "#Fix if you want to use a different path\n",
        "output_path = base_path / \"output\"\n",
        "data_path = base_path / \"HaluEval\"\n",
        "output_path.mkdir(exist_ok=True)"
      ]
    },
    {
      "cell_type": "markdown",
      "metadata": {
        "id": "uUs_MYWyElf9"
      },
      "source": [
        "## These are the libraries needed to run this notebook"
      ]
    },
    {
      "cell_type": "markdown",
      "metadata": {
        "id": "q_IRq_2iM8Oh"
      },
      "source": [
        "## Deep Learning Installations"
      ]
    },
    {
      "cell_type": "code",
      "execution_count": null,
      "metadata": {
        "colab": {
          "base_uri": "https://localhost:8080/"
        },
        "id": "v3JO8-2WM0Oi",
        "outputId": "c1d35fe9-432b-4df1-af02-36d03f00d026"
      },
      "outputs": [],
      "source": [
        "%pip install transformers datasets evaluate rouge_score\n",
        "%pip install --upgrade huggingface_hub\n",
        "%pip install accelerate -U\n",
        "%pip install transformers[torch]\n",
        "%pip install sentencepiece\n",
        "%pip install google\n",
        "%pip install protobuf"
      ]
    },
    {
      "cell_type": "markdown",
      "metadata": {
        "id": "h4I9BbUWNGAT"
      },
      "source": [
        "## Libraries"
      ]
    },
    {
      "cell_type": "code",
      "execution_count": null,
      "metadata": {
        "id": "S_orD5O6M0Sz"
      },
      "outputs": [],
      "source": [
        "from datasets import load_dataset\n",
        "from datasets import Dataset\n",
        "from transformers import AutoTokenizer\n",
        "from transformers import DataCollatorForSeq2Seq\n",
        "from transformers import pipeline\n",
        "from transformers import AutoModelForSeq2SeqLM, Seq2SeqTrainingArguments, Seq2SeqTrainer\n",
        "from transformers import AutoTokenizer\n",
        "from transformers import AutoModelForSeq2SeqLM\n",
        "import numpy as np\n",
        "import pandas as pd\n",
        "import evaluate"
      ]
    },
    {
      "cell_type": "markdown",
      "metadata": {
        "id": "ulEMNzTdNK6p"
      },
      "source": [
        "# Reading Dataset\n",
        "\n",
        "`The method loadDataset receieves the path where the datasets json files of the HaluEval repository are. You just need to pass your path and the name of the dataset you are going to use.`\n",
        "\n",
        "## Dataset Names:\n",
        "- summarization\n",
        "- dialogue\n",
        "- qa\n",
        "- general\n"
      ]
    },
    {
      "cell_type": "code",
      "execution_count": null,
      "metadata": {
        "id": "BBBHKHm1PLgN"
      },
      "outputs": [],
      "source": [
        "## As a recomendation keep these two with the same naming if you do not want to change many things\n",
        "datasetName = \"qa\"\n",
        "task = datasetName"
      ]
    },
    {
      "cell_type": "code",
      "execution_count": null,
      "metadata": {
        "id": "z559eoe9EsIw"
      },
      "outputs": [],
      "source": [
        "def loadDataset(path=\"./data\", datasetName=\"qa\"):\n",
        "    data = pd.read_json(\n",
        "        data_path / (path + \"/\" + datasetName + \"_data.json\"), lines=True\n",
        "    )\n",
        "    return data"
      ]
    },
    {
      "cell_type": "markdown",
      "metadata": {
        "id": "oUanNTojFm-j"
      },
      "source": [
        "## For this particular example we are loading the qa_data.json since is the one that takes the less time to process in case you want to test quickly how it works."
      ]
    },
    {
      "cell_type": "code",
      "execution_count": null,
      "metadata": {
        "id": "fwC9pOCKM0XJ"
      },
      "outputs": [],
      "source": [
        "data = loadDataset(datasetName=datasetName)"
      ]
    },
    {
      "cell_type": "code",
      "execution_count": null,
      "metadata": {
        "colab": {
          "base_uri": "https://localhost:8080/",
          "height": 206
        },
        "id": "h2DOjPBTM0ZE",
        "outputId": "4942e66a-a7ad-42a0-88b5-c3d0e69f4c35"
      },
      "outputs": [],
      "source": [
        "data.head()"
      ]
    },
    {
      "cell_type": "code",
      "execution_count": null,
      "metadata": {
        "colab": {
          "base_uri": "https://localhost:8080/"
        },
        "id": "uPhslb8B2LK_",
        "outputId": "d69bcedf-4bd2-40a7-cc56-097631b62d90"
      },
      "outputs": [],
      "source": [
        "len(data)"
      ]
    },
    {
      "cell_type": "markdown",
      "metadata": {
        "id": "Zw6PgoaCNRCz"
      },
      "source": [
        "# Setting Device to use the GPU\n",
        "\n",
        "We use the T4 GPU in Colab since the heaviest computation for us is the inference of the LLM-Evaluator. Therefore, T4 seem as the better fit."
      ]
    },
    {
      "cell_type": "code",
      "execution_count": null,
      "metadata": {
        "colab": {
          "base_uri": "https://localhost:8080/"
        },
        "id": "Gpd-VUHOM0bn",
        "outputId": "755c5ea9-0c01-4c91-dc12-383b6f048515"
      },
      "outputs": [],
      "source": [
        "import torch\n",
        "\n",
        "print(torch.cuda.is_available())\n",
        "print(torch.cuda.get_device_name(0))"
      ]
    },
    {
      "cell_type": "code",
      "execution_count": null,
      "metadata": {
        "id": "M-imxNzmM0du"
      },
      "outputs": [],
      "source": [
        "device = torch.device(\"cuda\" if torch.cuda.is_available() else \"cpu\")\n",
        "device"
      ]
    },
    {
      "cell_type": "markdown",
      "metadata": {
        "id": "H5GcfQIoNWfm"
      },
      "source": [
        "## Generic LLMModel class to reuse the functionality of extracting the features.\n"
      ]
    },
    {
      "cell_type": "code",
      "execution_count": null,
      "metadata": {
        "id": "Q_H0RABQM0f7"
      },
      "outputs": [],
      "source": [
        "from transformers import BartForConditionalGeneration, BartTokenizer\n",
        "from transformers import T5Tokenizer, T5ForConditionalGeneration\n",
        "from transformers import AutoTokenizer, AutoModelForSeq2SeqLM\n",
        "from transformers import BartForConditionalGeneration, PegasusForConditionalGeneration\n",
        "from transformers import LEDForConditionalGeneration, LEDTokenizer\n",
        "from transformers import AutoTokenizer, AutoModelForCausalLM, BitsAndBytesConfig\n",
        "from transformers import GPT2LMHeadModel, GPT2Tokenizer\n",
        "from transformers import LlamaForCausalLM, LlamaTokenizer\n",
        "\n",
        "import torch\n",
        "import torch.nn.functional as F\n",
        "\n",
        "\n",
        "class LLMModel:\n",
        "    def __init__(self):\n",
        "        self.model = self.model.to(device)\n",
        "        pass\n",
        "\n",
        "    def getName(self) -> str:\n",
        "        return self.model_name\n",
        "\n",
        "    def getSanitizedName(self) -> str:\n",
        "        return self.model_name.replace(\"/\", \"__\")\n",
        "\n",
        "    def generate(self, inpt):\n",
        "        pass\n",
        "\n",
        "    ##Move in future commits this method to an utils.py\n",
        "    def truncate_string_by_len(self, s, truncate_len):\n",
        "        words = s.split()\n",
        "        truncated_words = words[:-truncate_len] if truncate_len > 0 else words\n",
        "        return \" \".join(truncated_words)\n",
        "\n",
        "    # Method to get the vocabulary probabilities of the LLM for a given token on the generated text from LLM-Generator\n",
        "    def getVocabProbsAtPos(self, pos, token_probs):\n",
        "        sorted_probs, sorted_indices = torch.sort(token_probs[pos, :], descending=True)\n",
        "        return sorted_probs\n",
        "\n",
        "    def getMaxLength(self):\n",
        "        return self.model.config.max_position_embeddings\n",
        "\n",
        "    # By default knowledge is the empty string. If you want to add extra knowledge you can do it like in the cases of the qa_data.json and dialogue_data.json\n",
        "    def extractFeatures(\n",
        "        self,\n",
        "        knowledge=\"\",\n",
        "        conditionted_text=\"\",\n",
        "        generated_text=\"\",\n",
        "        features_to_extract={},\n",
        "    ):\n",
        "        self.model.eval()\n",
        "\n",
        "        total_len = len(knowledge) + len(conditionted_text) + len(generated_text)\n",
        "        truncate_len = min(total_len - self.tokenizer.model_max_length, 0)\n",
        "\n",
        "        # Truncate knowledge in case is too large\n",
        "        knowledge = self.truncate_string_by_len(knowledge, truncate_len // 2)\n",
        "        # Truncate text_A in case is too large\n",
        "        conditionted_text = self.truncate_string_by_len(\n",
        "            conditionted_text, truncate_len - (truncate_len // 2)\n",
        "        )\n",
        "\n",
        "        inputs = self.tokenizer(\n",
        "            [knowledge + conditionted_text + generated_text],\n",
        "            return_tensors=\"pt\",\n",
        "            max_length=self.getMaxLength(),\n",
        "            truncation=True,\n",
        "        )\n",
        "\n",
        "        for key in inputs:\n",
        "            inputs[key] = inputs[key].to(device)\n",
        "\n",
        "        with torch.no_grad():\n",
        "            outputs = self.model(**inputs)\n",
        "            logits = outputs.logits\n",
        "\n",
        "        probs = F.softmax(logits, dim=-1)\n",
        "        probs = probs.to(device)\n",
        "\n",
        "        tokens_generated_length = len(self.tokenizer.tokenize(generated_text))\n",
        "        start_index = logits.shape[1] - tokens_generated_length\n",
        "        conditional_probs = probs[0, start_index :]\n",
        "\n",
        "        token_ids_generated = inputs[\"input_ids\"][0, start_index :].tolist()\n",
        "        token_probs_generated = [\n",
        "            conditional_probs[i, tid].item()\n",
        "            for i, tid in enumerate(token_ids_generated)\n",
        "        ]\n",
        "\n",
        "        tokens_generated = self.tokenizer.convert_ids_to_tokens(token_ids_generated)\n",
        "\n",
        "        minimum_token_prob = min(token_probs_generated)\n",
        "        average_token_prob = sum(token_probs_generated) / len(token_probs_generated)\n",
        "\n",
        "        maximum_diff_with_vocab = -1\n",
        "        minimum_vocab_extreme_diff = 100000000000\n",
        "\n",
        "        if features_to_extract[\"MDVTP\"] == True or features_to_extract[\"MMDVP\"] == True:\n",
        "            size = len(token_probs_generated)\n",
        "            for pos in range(size):\n",
        "                vocabProbs = self.getVocabProbsAtPos(pos, conditional_probs)\n",
        "                maximum_diff_with_vocab = max(\n",
        "                    [\n",
        "                        maximum_diff_with_vocab,\n",
        "                        self.getDiffVocab(vocabProbs, token_probs_generated[pos]),\n",
        "                    ]\n",
        "                )\n",
        "                minimum_vocab_extreme_diff = min(\n",
        "                    [\n",
        "                        minimum_vocab_extreme_diff,\n",
        "                        self.getDiffMaximumWithMinimum(vocabProbs),\n",
        "                    ]\n",
        "                )\n",
        "\n",
        "        # allFeatures = [minimum_token_prob, average_token_prob, maximum_diff_with_vocab, minimum_vocab_extreme_diff]\n",
        "\n",
        "        allFeatures = {\n",
        "            \"mtp\": minimum_token_prob,\n",
        "            \"avgtp\": average_token_prob,\n",
        "            \"MDVTP\": maximum_diff_with_vocab,\n",
        "            \"MMDVP\": minimum_vocab_extreme_diff,\n",
        "        }\n",
        "\n",
        "        selectedFeatures = {}\n",
        "        for key, feature in features_to_extract.items():\n",
        "            if feature == True:\n",
        "                selectedFeatures[key] = allFeatures[key]\n",
        "\n",
        "        return selectedFeatures\n",
        "\n",
        "    def getDiffVocab(self, vocabProbs, tprob):\n",
        "        return (vocabProbs[0] - tprob).item()\n",
        "\n",
        "    def getDiffMaximumWithMinimum(self, vocabProbs):\n",
        "        return (vocabProbs[0] - vocabProbs[-1]).item()"
      ]
    },
    {
      "cell_type": "markdown",
      "metadata": {
        "id": "XTqGHAYvIyEc"
      },
      "source": [
        "## Definition of the specific Models"
      ]
    },
    {
      "cell_type": "code",
      "execution_count": null,
      "metadata": {
        "id": "DTxfgFM3Iwuh"
      },
      "outputs": [],
      "source": [
        "class Gemma(LLMModel):\n",
        "    def __init__(self):\n",
        "        self.model_name = \"google/gemma-7b-it\"\n",
        "        self.model = AutoModelForCausalLM.from_pretrained(\n",
        "            self.model_name\n",
        "        )\n",
        "        self.tokenizer = AutoTokenizer.from_pretrained(self.model_name)\n",
        "        super().__init__()\n",
        "\n",
        "\n",
        "    def generate(self, inpt):\n",
        "        inputs = self.tokenizer(\n",
        "            [inpt], max_length=self.getMaxLength(), return_tensors=\"pt\", truncation=True\n",
        "        )\n",
        "        summary_ids = self.model.generate(inputs[\"input_ids\"])\n",
        "\n",
        "        summary = self.tokenizer.decode(summary_ids[0], skip_special_tokens=True)\n",
        "\n",
        "        return summary\n",
        "\n",
        "\n",
        "class LLama(LLMModel):\n",
        "    def __init__(self):\n",
        "        self.model_name = \"meta-llama/Llama-2-7b-chat-hf\"\n",
        "        self.model = AutoModelForCausalLM.from_pretrained(\n",
        "            self.model_name,\n",
        "        )\n",
        "        self.tokenizer = AutoTokenizer.from_pretrained(self.model_name)\n",
        "        super().__init__()\n",
        "\n",
        "\n",
        "    def generate(self, inpt):\n",
        "        inputs = self.tokenizer(\n",
        "            [inpt], max_length=1024, return_tensors=\"pt\", truncation=True\n",
        "        )\n",
        "        summary_ids = self.model.generate(inputs[\"input_ids\"])\n",
        "\n",
        "        summary = self.tokenizer.decode(summary_ids[0], skip_special_tokens=True)\n",
        "\n",
        "        return summary\n",
        "\n",
        "\n",
        "class Opt(LLMModel):\n",
        "    def __init__(self):\n",
        "        self.model_name = \"facebook/opt-6.7b\"\n",
        "        self.model = AutoModelForCausalLM.from_pretrained(self.model_name)\n",
        "        self.tokenizer = AutoTokenizer.from_pretrained(self.model_name)\n",
        "        super().__init__()\n",
        " \n",
        " \n",
        "    def generate(self, inpt):\n",
        "        inputs = self.tokenizer(\n",
        "            [inpt], max_length=self.getMaxLength(), return_tensors=\"pt\", truncation=True\n",
        "        )\n",
        "        summary_ids = self.model.generate(inputs[\"input_ids\"])\n",
        " \n",
        "        summary = self.tokenizer.decode(summary_ids[0], skip_special_tokens=True)\n",
        " \n",
        "        return summary\n",
        "\n",
        "\n",
        "class Gptj(LLMModel):\n",
        "    def __init__(self):\n",
        "        self.model_name = \"EleutherAI/gpt-j-6B\"\n",
        "        self.model = AutoModelForCausalLM.from_pretrained(self.model_name)\n",
        "        self.tokenizer = AutoTokenizer.from_pretrained(self.model_name)\n",
        "        super().__init__()\n",
        " \n",
        " \n",
        "    def generate(self, inpt):\n",
        "        inputs = self.tokenizer(\n",
        "            [inpt], max_length=self.getMaxLength(), return_tensors=\"pt\", truncation=True\n",
        "        )\n",
        "        summary_ids = self.model.generate(inputs[\"input_ids\"])\n",
        " \n",
        "        summary = self.tokenizer.decode(summary_ids[0], skip_special_tokens=True)\n",
        " \n",
        "        return summary\n",
        "\n",
        "\n",
        "class BartCNN(LLMModel):\n",
        "    def __init__(self):\n",
        "        self.model_name = \"facebook/bart-large-cnn\"\n",
        "        self.model = BartForConditionalGeneration.from_pretrained(self.model_name)\n",
        "        self.tokenizer = BartTokenizer.from_pretrained(self.model_name)\n",
        "        super().__init__()\n",
        "\n",
        "\n",
        "    def generate(self, inpt):\n",
        "        inputs = self.tokenizer(\n",
        "            [inpt], max_length=self.getMaxLength(), return_tensors=\"pt\", truncation=True\n",
        "        )\n",
        "        summary_ids = self.model.generate(inputs[\"input_ids\"])\n",
        "\n",
        "        summary = self.tokenizer.decode(summary_ids[0], skip_special_tokens=True)\n",
        "\n",
        "        return summary\n",
        "\n",
        "class GPT2Generator(LLMModel):\n",
        "    def __init__(self):\n",
        "        self.model_name = \"gpt2-large\"\n",
        "        self.model = GPT2LMHeadModel.from_pretrained(self.model_name)\n",
        "        self.tokenizer = GPT2Tokenizer.from_pretrained(self.model_name)\n",
        "        super().__init__()\n",
        "\n",
        "    def generate(self, inpt):\n",
        "        inputs = self.tokenizer.encode(\n",
        "            inpt, return_tensors=\"pt\", max_length=self.getMaxLength(), truncation=True\n",
        "        )\n",
        "        output_ids = self.model.generate(\n",
        "            inputs, max_length=1024, num_return_sequences=1\n",
        "        )\n",
        "        output = self.tokenizer.decode(output_ids[0], skip_special_tokens=True)\n",
        "        return output\n",
        "\n",
        "\n",
        "class LED(LLMModel):\n",
        "    def __init__(self):\n",
        "        self.model_name = \"allenai/led-large-16384-arxiv\"\n",
        "        self.model = LEDForConditionalGeneration.from_pretrained(self.model_name)\n",
        "        self.tokenizer = LEDTokenizer.from_pretrained(self.model_name)\n",
        "        super().__init__()\n",
        "\n",
        "    def generate(self, inpt):\n",
        "        inputs = self.tokenizer(\n",
        "            [inpt], max_length=self.getMaxLength(), return_tensors=\"pt\", truncation=True\n",
        "        )\n",
        "        summary_ids = self.model.generate(inputs[\"input_ids\"])\n",
        "\n",
        "        summary = self.tokenizer.decode(summary_ids[0], skip_special_tokens=True)\n",
        "\n",
        "        return summary"
      ]
    },
    {
      "cell_type": "markdown",
      "metadata": {
        "id": "CtKuMaZNQ8MO"
      },
      "source": [
        "# The Dictionary `features_to_extract` defines which features will be use in this experiment.\n",
        "\n",
        "## Features Meaning:\n",
        "\n",
        "- `mtp` : Take the minimum of the probabilities that the LLM_E gives to the tokens on the generated-text.\n",
        "- `avgtp` : Take the average of the probabilities that the LLM_E\n",
        "gives to the tokens on the generated-text.\n",
        "- `MDVTP` : Take the maximum from all the differences\n",
        "between the token with the highest probability\n",
        "according to LLM_E at position i and the\n",
        "assigned probability from LLM_E to the token at position i in the generated_text.\n",
        "- `MMDVP` : Take the maximum from all the differences between the token with the highest probability according to $LLM_E$ at position $i$ ($v^*$) and the token with the lowest probability according to $LLM_E$ at position $i$ ($v^-$).\n"
      ]
    },
    {
      "cell_type": "code",
      "execution_count": null,
      "metadata": {
        "id": "5OjJxW1PRHrE"
      },
      "outputs": [],
      "source": [
        "feature_to_extract = 'mtp'\n",
        "\n",
        "available_features_to_extract = [\"mtp\", \"avgtp\", \"MDVTP\", \"MMDVP\"]\n",
        "if feature_to_extract == 'all':\n",
        "    features_to_extract = {\n",
        "        feature: True for feature in available_features_to_extract\n",
        "    }\n",
        "else:\n",
        "    features_to_extract = {\n",
        "        feature: True if feature == feature_to_extract else False\n",
        "        for feature in available_features_to_extract\n",
        "    }\n",
        "\n",
        "features_to_extract"
      ]
    },
    {
      "cell_type": "markdown",
      "metadata": {
        "id": "OpgpfLjKQiwe"
      },
      "source": [
        "## Cleaning Cache on GPU to save memory"
      ]
    },
    {
      "cell_type": "code",
      "execution_count": null,
      "metadata": {
        "id": "4t5DYYzaM0nE"
      },
      "outputs": [],
      "source": [
        "import torch\n",
        "import gc\n",
        "\n",
        "gc.collect()\n",
        "torch.cuda.empty_cache()"
      ]
    },
    {
      "cell_type": "markdown",
      "metadata": {
        "id": "9-GdklJnQIB8"
      },
      "source": [
        "## This cell is to instantiate the model you intend to use for the experiment"
      ]
    },
    {
      "cell_type": "code",
      "execution_count": null,
      "metadata": {
        "colab": {
          "base_uri": "https://localhost:8080/",
          "height": 345,
          "referenced_widgets": [
            "af24fc423d1e44359a15565fe4d4aba1",
            "3afbd438492c4873ba6c99d39b949752",
            "de349f93b59c4cd289aa135d32d17b3e",
            "b8ed2b38fb684eea814889609bf679fb",
            "ebddae646de9494f872de523a517d130",
            "9435679a05a941a792e2474f75978385",
            "d542096ea2d441ba91698399af48a2af",
            "ec447ebb8af94a8ab3338cb153f66ff5",
            "864d448419da4711936a0e584c96964b",
            "7edab73b97574a8b88cb6d2d8895c64b",
            "dab2171a31a04d35afa13f4be8e9c93a",
            "63d2ce276f854602bb02f296857ba020",
            "cab34f5c61284ce3ad3010563bda7122",
            "3e5f509de6b24e209ac2a43d116ae064",
            "bd172de25a83456c901ef268642883ee",
            "5d9e549be6394f4b8b487cc8f51eb4a8",
            "8c46c70b058947b488b4d4c9cdfa8b69",
            "c2f797a8a10f4f39aafef4c19bf106db",
            "de85041e44f7432b9c58de466a95968a",
            "076ee3f0e6f64a80a30ad7d1e42629d6",
            "abf71c210c314691b1bfcbc0491772fe",
            "a6ec6fc5a0624039a6e50b0fef9c0a71",
            "580c6068c3ca40d88180a213d41e8fff",
            "72d993653d3d4efea6ed47b6b9cf057a",
            "973726c0f5e24b1cb48452c97534cb8f",
            "ea6ab54e02f04d37993b2c4887d5c7ed",
            "78c143f681e647ad94d19941c778988d",
            "c5550bc06ebe4a37b6789cdaa6329128",
            "65ab7ee47b174265931b3fd91d4cc4a2",
            "ff237f2ab642427ba2c184031c6b2b5c",
            "59948c70bdb44c528e02ba81308a56cc",
            "4a5a39bfc9f0429a910120e8e3cabe8f",
            "4d614251c35b4ab3b9d7214909c80aae",
            "f6ce06ee38e54481815974ff06451f24",
            "b85f192e77dc4bc8a8053289c1e9b8c9",
            "744b41f6f55847e59e4c2985897ebb3f",
            "70eaf260d9994bcab22ab1de76500107",
            "cb8a173015aa4fc9aebc31fd364529c8",
            "512f8fb2ca404adfa43933752b5b4990",
            "e5dfa372bace44d592dfb6174ede3566",
            "054ab9b730dd4f909e711338205950f5",
            "27ae621aa1fb46749e61098f2e78990e",
            "96085e02e4ab4402bae246fb1839c0d3",
            "cd39a3042f2843c4916c2047ae6f43b1",
            "6486665290344283b467a2921dbaee61",
            "55370b5cee4b4db5bbab3ed306089fb0",
            "b14964cdbe8a498480dfc3d304ba0d7b",
            "2dd132e1bbdb4fb4ac2bfd7362320201",
            "0006c2b3cdf04a0aa6df9a67f786e22c",
            "1b9bd5dc03b84c0083b94943d1361d6f",
            "9ec59d9d599241659315c51f1e2f557b",
            "9ceb67edf8df4e64ae46e700b71072da",
            "3895f9f23123442aa8625d0317f7d856",
            "ec83dd4e6c3c461da065a91cc7adba45",
            "884680a128e24097bd1451a0b1ac3e0a",
            "6aec23935a144fceb51cf92d39d68f5d",
            "72369f95d12e44298dbf5634b74c13fa",
            "ea54b3f282184db195845f1fdbc86f9b",
            "6c15978810124ae59953508e54844f80",
            "5222d4e05153479887f194d9f8bb7165",
            "9be1debef01a4c818d9272c26f199f52",
            "2cbaee8118c44153997b1d251b350744",
            "b0d397c5d5eb467e9dba76d983e24926",
            "d343920cc98247a8aaa16f48506b1694",
            "be85927df4874f98a966452726e296e8",
            "b234c5707cb74b76a92507f1de368bfb",
            "b7d5fef6b5634fa2b33a0a2566d8ce27",
            "f5e6051d53584f1ba67af09b95f6bd50",
            "534f2d965c8548638293c8cce181eca3",
            "7a3ab257d1f74fbfad760e17a24b6de4",
            "a6a0fa0acdd9408c9ff2291cecd0981f",
            "b64a6d701ebd4802be30cda4ed10783e",
            "2232393916e349deb72bc20ac61c3bd7",
            "8bf6901510d1405ba1e11dbfae99e64f",
            "31eff2c794584fd9a187f26f23f070b9",
            "0409f0470b6946eabe5b539b3589f521",
            "f5477dbf0abb4af2a50201ab646532c0"
          ]
        },
        "id": "TZHYra4sM0ig",
        "outputId": "ddb96703-5025-4676-e050-9bfea85bd55b"
      },
      "outputs": [],
      "source": [
        "model = BartCNN()\n",
        "# model = LED()\n",
        "# model = GPT2Generator()\n",
        "# model = LLama()\n",
        "# model = Gemma()\n",
        "# model = Opt()\n",
        "# model = Gptj()"
      ]
    },
    {
      "cell_type": "markdown",
      "metadata": {
        "id": "vUXW1LNxQnal"
      },
      "source": [
        "## This cell creates the dataset separation of `10%` for training and `90%` for testing depending on what task you are addressing. The following explanation is what happens if summarization is the task used. But the same explanation applies to all tasks and also you cand pass as parameter how many data points you want to include in training.\n",
        "\n",
        "## Example: The data is separated on 2000 (1000 of document with right summary and 1000 with the same document but with the hallucinated summary). The rest which is 18000 is used to for testing.\n",
        "\n",
        "### As expected from previous cells the task string expected are:\n",
        "- `summarization`\n",
        "- `qa`\n",
        "- `dialogue`\n",
        "- `general`"
      ]
    },
    {
      "cell_type": "code",
      "execution_count": null,
      "metadata": {
        "id": "JCPqy3UTLrJa"
      },
      "outputs": [],
      "source": [
        "import random\n",
        "\n",
        "\n",
        "# Load the data depending on the task\n",
        "def loadRowData(taskName, row, includeKnowledge=False):\n",
        "    if taskName == \"summarization\":\n",
        "        return \"\", row[\"document\"], row[\"right_summary\"], row[\"hallucinated_summary\"]\n",
        "    elif taskName == \"qa\":\n",
        "        if includeKnowledge:\n",
        "            return (\n",
        "                row[\"knowledge\"],\n",
        "                row[\"question\"],\n",
        "                row[\"right_answer\"],\n",
        "                row[\"hallucinated_answer\"],\n",
        "            )\n",
        "        else:\n",
        "            return \"\", row[\"question\"], row[\"right_answer\"], row[\"hallucinated_answer\"]\n",
        "\n",
        "    elif taskName == \"dialogue\":\n",
        "        if includeKnowledge:\n",
        "            return (\n",
        "                row[\"knowledge\"],\n",
        "                row[\"dialogue_history\"],\n",
        "                row[\"right_response\"],\n",
        "                row[\"hallucinated_response\"],\n",
        "            )\n",
        "        else:\n",
        "            return (\n",
        "                \"\",\n",
        "                row[\"dialogue_history\"],\n",
        "                row[\"right_response\"],\n",
        "                row[\"hallucinated_response\"],\n",
        "            )\n",
        "\n",
        "    elif taskName == \"general\":\n",
        "        return (\n",
        "            \"\",\n",
        "            row[\"user_query\"],\n",
        "            row[\"chatgpt_response\"],\n",
        "            row[\"hallucination_label\"],\n",
        "        )\n",
        "\n",
        "    else:\n",
        "        raise Exception(\"Task not supported\")\n",
        "\n",
        "\n",
        "# Adapt the dataset to have a data point of conditioned-text with right-generation and another with the same conditioned-text and tha hallucinated answer.\n",
        "def adaptDataset(data, taskName):\n",
        "    datasetAdapted = None\n",
        "    if taskName == \"general\":\n",
        "        # There is data point that is filling the <mask> token but that gives error with some LLMs\n",
        "        datasetAdapted = [\n",
        "            (\n",
        "                (knowledge, document, response, 1)\n",
        "                if hallu == \"yes\"\n",
        "                else (knowledge, document, response, 0)\n",
        "            )\n",
        "            for knowledge, document, response, hallu in data\n",
        "            if \"<mask>\" not in document and \"<mask>\" not in response\n",
        "        ]\n",
        "\n",
        "    elif taskName == \"summarization\" or taskName == \"qa\" or taskName == \"dialogue\":\n",
        "        datasetAdapted = [\n",
        "            (knowledge, document, right, 1)\n",
        "            for knowledge, document, right, hallu in data\n",
        "        ] + [\n",
        "            (knowledge, document, hallu, 0)\n",
        "            for knowledge, document, right, hallu in data\n",
        "        ]\n",
        "\n",
        "    else:\n",
        "        raise Exception(\"Task not supported\")\n",
        "\n",
        "    random.shuffle(datasetAdapted)\n",
        "    return datasetAdapted\n",
        "\n",
        "\n",
        "def splitDataset(\n",
        "    data: pd.DataFrame,\n",
        "    taskName: str,\n",
        "    trainingSize: int,\n",
        "    valSize: int,\n",
        "    includeKnowledge=False,\n",
        "):\n",
        "\n",
        "    dataset = []\n",
        "    for _, row in data.iterrows():\n",
        "        knowledge, text, right, hallu = loadRowData(taskName, row, includeKnowledge)\n",
        "        dataset.append((knowledge, text, right, hallu))\n",
        "\n",
        "    random.shuffle(dataset)\n",
        "\n",
        "    dataset_train = dataset[:trainingSize]  # Take only trainingSize\n",
        "    dataset_val = (\n",
        "        []\n",
        "    )  # dataset[trainingSize:trainingSize + valSize] # Take only trainingSize\n",
        "    dataset_test = dataset[trainingSize:]  # Take the rest as testing\n",
        "\n",
        "    datasetAdaptedTrain = adaptDataset(dataset_train, taskName)\n",
        "    datasetAdaptedValidation = adaptDataset(dataset_val, taskName)\n",
        "    datasetAdaptedTest = adaptDataset(dataset_test, taskName)\n",
        "\n",
        "    X_train = [(x, q, y) for x, q, y, _ in datasetAdaptedTrain]\n",
        "    Y_train = [z for _, _, _, z in datasetAdaptedTrain]\n",
        "\n",
        "    X_val = [(x, q, y) for x, q, y, _ in datasetAdaptedValidation]\n",
        "    Y_val = [z for _, _, _, z in datasetAdaptedValidation]\n",
        "\n",
        "    X_test = [(x, q, y) for x, q, y, _ in datasetAdaptedTest]\n",
        "    Y_test = [z for _, _, _, z in datasetAdaptedTest]\n",
        "\n",
        "    return X_train, Y_train, X_val, Y_val, X_test, Y_test"
      ]
    },
    {
      "cell_type": "code",
      "execution_count": null,
      "metadata": {
        "id": "x8zc6RFq_Tx8"
      },
      "outputs": [],
      "source": [
        "includeKnowledge = True\n",
        "includeConditioned = True"
      ]
    },
    {
      "cell_type": "code",
      "execution_count": null,
      "metadata": {
        "id": "dBUtDsPsPFy3"
      },
      "outputs": [],
      "source": [
        "X_train, Y_train, X_val, Y_val, X_test, Y_test = splitDataset(\n",
        "    data, task, 1000, 0, includeKnowledge=includeKnowledge\n",
        ")"
      ]
    },
    {
      "cell_type": "code",
      "execution_count": null,
      "metadata": {
        "colab": {
          "base_uri": "https://localhost:8080/"
        },
        "id": "7mHLWT2nrcli",
        "outputId": "ee93c5e0-807f-44e8-d461-851cb5dc483d"
      },
      "outputs": [],
      "source": [
        "print(len(X_train), len(Y_train))\n",
        "print(len(X_val), len(Y_val))\n",
        "print(len(X_test), len(Y_test))  # verify the sizes look right"
      ]
    },
    {
      "cell_type": "markdown",
      "metadata": {
        "id": "fPTEeI-eBmxj"
      },
      "source": [
        "## To Save the separation if needed"
      ]
    },
    {
      "cell_type": "code",
      "execution_count": null,
      "metadata": {
        "id": "5aEkIWkkBlwb"
      },
      "outputs": [],
      "source": [
        "train_df = pd.DataFrame(\n",
        "    {\n",
        "        \"Knowledge\": [x[0] for x in X_train],\n",
        "        \"Conditioned Text\": [x[1] for x in X_train],\n",
        "        \"Generated Text\": [x[2] for x in X_train],\n",
        "        \"Label\": Y_train,\n",
        "    }\n",
        ")\n",
        "\n",
        "val_df = pd.DataFrame(\n",
        "    {\n",
        "        \"Knowledge\": [x[0] for x in X_val],\n",
        "        \"Conditioned Text\": [x[1] for x in X_val],\n",
        "        \"Generated Text\": [x[2] for x in X_val],\n",
        "        \"Label\": Y_val,\n",
        "    }\n",
        ")\n",
        "\n",
        "test_df = pd.DataFrame(\n",
        "    {\n",
        "        \"Knowledge\": [x[0] for x in X_test],\n",
        "        \"Conditioned Text\": [x[1] for x in X_test],\n",
        "        \"Generated Text\": [x[2] for x in X_test],\n",
        "        \"Label\": Y_test,\n",
        "    }\n",
        ")\n",
        "\n",
        "#Export to CSV\n",
        "if includeKnowledge:\n",
        "    train_df.to_csv(output_path / (task + '_knowledge_train_data.csv'), index=False)\n",
        "    test_df.to_csv(output_path / (task + '_knowledge_test_data.csv'), index=False)\n",
        "else:\n",
        "    train_df.to_csv(output_path / (task + '_train_data.csv'), index=False)\n",
        "    val_df.to_csv(output_path / (task + '_val_data.csv'), index=False)\n",
        "    test_df.to_csv(output_path / (task + '_test_data.csv'), index=False)"
      ]
    },
    {
      "cell_type": "code",
      "execution_count": null,
      "metadata": {
        "id": "kNfL_hTsEZgB"
      },
      "outputs": [],
      "source": [
        "def getXY(df: pd.DataFrame, includeKnowledge=True, includeConditioned=True):\n",
        "    X = []\n",
        "    Y = []\n",
        "\n",
        "    # Iterate over rows using itertuples\n",
        "    for _, row in df.iterrows():\n",
        "        x, c, g = (\n",
        "            row[\"Knowledge\"] if includeKnowledge else \"\",\n",
        "            row[\"Conditioned Text\"] if includeConditioned else \"\",\n",
        "            row[\"Generated Text\"],\n",
        "        )\n",
        "        y = row[\"Label\"]\n",
        "\n",
        "        # Append values to respective lists\n",
        "        X.append((x, c, g))\n",
        "        Y.append(y)\n",
        "    return X, Y"
      ]
    },
    {
      "cell_type": "code",
      "execution_count": null,
      "metadata": {
        "id": "BinJfLy9Dwjd"
      },
      "outputs": [],
      "source": [
        "X_train, Y_train = getXY(\n",
        "    train_df, includeKnowledge=includeKnowledge, includeConditioned=includeConditioned\n",
        ")\n",
        "X_val, Y_val = getXY(\n",
        "    val_df, includeKnowledge=includeKnowledge, includeConditioned=includeConditioned\n",
        ")\n",
        "X_test, Y_test = getXY(\n",
        "    test_df, includeKnowledge=includeKnowledge, includeConditioned=includeConditioned\n",
        ")"
      ]
    },
    {
      "cell_type": "code",
      "execution_count": null,
      "metadata": {
        "colab": {
          "base_uri": "https://localhost:8080/"
        },
        "id": "Z2BNY5b1M0ri",
        "outputId": "1bc0b612-91bc-4cf2-82d0-5b90a66f60ea"
      },
      "outputs": [],
      "source": [
        "print(len(X_train), len(Y_train))\n",
        "print(len(X_val), len(Y_val))\n",
        "print(len(X_test), len(Y_test))  # verify the sizes look right"
      ]
    },
    {
      "cell_type": "code",
      "execution_count": null,
      "metadata": {
        "colab": {
          "base_uri": "https://localhost:8080/"
        },
        "id": "UDHkOclDQMDW",
        "outputId": "b68dea36-178c-49e8-bad8-0ee268689171"
      },
      "outputs": [],
      "source": [
        "X_test[0]"
      ]
    },
    {
      "cell_type": "code",
      "execution_count": null,
      "metadata": {
        "colab": {
          "base_uri": "https://localhost:8080/"
        },
        "id": "Lo_9Sd3n9BYA",
        "outputId": "0c46c199-6e0c-459c-c1f2-27856896a814"
      },
      "outputs": [],
      "source": [
        "Y_test[0]"
      ]
    },
    {
      "cell_type": "markdown",
      "metadata": {
        "id": "FNNRZuisSUrf"
      },
      "source": [
        "## Extracting the features for the Training Data"
      ]
    },
    {
      "cell_type": "code",
      "execution_count": null,
      "metadata": {
        "colab": {
          "base_uri": "https://localhost:8080/"
        },
        "id": "RtdBbmC8QgoK",
        "outputId": "3beb425b-a962-4145-990a-6e3673092e3e"
      },
      "outputs": [],
      "source": [
        "import torch\n",
        "from tqdm import tqdm\n",
        "\n",
        "\n",
        "def extract_features(\n",
        "    knowledge: str,\n",
        "    conditioned_text: str,\n",
        "    generated_text: str,\n",
        "    features_to_extract: dict[str, bool],\n",
        "):\n",
        "    return model.extractFeatures(\n",
        "        knowledge, conditioned_text, generated_text, features_to_extract\n",
        "    )\n",
        "\n",
        "\n",
        "X_train_features_maps = []\n",
        "\n",
        "for knowledge, conditioned_text, generated_text in tqdm(X_train, desc=\"Processing\"):\n",
        "    X_train_features_maps.append(\n",
        "        extract_features(\n",
        "            knowledge, conditioned_text, generated_text, features_to_extract\n",
        "        )\n",
        "    )\n",
        "    torch.cuda.empty_cache()  # Clean cache in every step for memory saving."
      ]
    },
    {
      "cell_type": "code",
      "execution_count": null,
      "metadata": {
        "colab": {
          "base_uri": "https://localhost:8080/"
        },
        "id": "GYazbv-mQgqe",
        "outputId": "bda7ab32-1c92-43fc-e424-4b5524e60509"
      },
      "outputs": [],
      "source": [
        "len(X_train_features_maps)"
      ]
    },
    {
      "cell_type": "code",
      "execution_count": null,
      "metadata": {
        "colab": {
          "base_uri": "https://localhost:8080/"
        },
        "id": "XCLqbQsU9rjT",
        "outputId": "55bc39e3-890c-4265-fb16-879203e47b53"
      },
      "outputs": [],
      "source": [
        "X_train_features_maps[0]"
      ]
    },
    {
      "cell_type": "code",
      "execution_count": null,
      "metadata": {
        "id": "FRHI34IE9uMQ"
      },
      "outputs": [],
      "source": [
        "X_train_features = [list(dic.values()) for dic in X_train_features_maps]"
      ]
    },
    {
      "cell_type": "code",
      "execution_count": null,
      "metadata": {
        "colab": {
          "base_uri": "https://localhost:8080/"
        },
        "id": "5eWIgjAU-UW9",
        "outputId": "2e9e6ec1-86a2-4391-d72c-a79b9a57f3c1"
      },
      "outputs": [],
      "source": [
        "len(X_train_features)"
      ]
    },
    {
      "cell_type": "code",
      "execution_count": null,
      "metadata": {
        "colab": {
          "base_uri": "https://localhost:8080/"
        },
        "id": "JFXzlfwd-UYy",
        "outputId": "060eced8-05e9-4ff5-d770-bd58e8821234"
      },
      "outputs": [],
      "source": [
        "X_train_features[0]"
      ]
    },
    {
      "cell_type": "markdown",
      "metadata": {
        "id": "CLgd5gk9SjjK"
      },
      "source": [
        "## Training Logistic Regression"
      ]
    },
    {
      "cell_type": "code",
      "execution_count": null,
      "metadata": {
        "colab": {
          "base_uri": "https://localhost:8080/",
          "height": 75
        },
        "id": "UdbK2IsvQgsp",
        "outputId": "aa9807b7-0f17-4039-acf8-30ddfe0f3b63"
      },
      "outputs": [],
      "source": [
        "from sklearn.linear_model import LogisticRegression\n",
        "\n",
        "clf = LogisticRegression(verbose=1)\n",
        "clf.fit(X_train_features, Y_train)"
      ]
    },
    {
      "cell_type": "markdown",
      "metadata": {
        "id": "O69UE4MUS5_v"
      },
      "source": [
        "## Evaluate accuracy of Logistic Regression on the training set"
      ]
    },
    {
      "cell_type": "code",
      "execution_count": null,
      "metadata": {
        "colab": {
          "base_uri": "https://localhost:8080/"
        },
        "id": "KA6ovXb2S5kQ",
        "outputId": "d3764fb9-914e-4fff-d6e5-e3f4145d98bf"
      },
      "outputs": [],
      "source": [
        "from sklearn.metrics import accuracy_score\n",
        "\n",
        "Y_Pred = clf.predict(X_train_features)\n",
        "\n",
        "accuracy = accuracy_score(Y_train, Y_Pred)\n",
        "print(f\"Accuracy: {accuracy * 100:.2f}%\")"
      ]
    },
    {
      "cell_type": "code",
      "execution_count": null,
      "metadata": {},
      "outputs": [],
      "source": [
        "log_odds = clf.coef_[0]\n",
        "odds = np.exp(clf.coef_[0])\n",
        "lr_features_log = {k: v for k, v in zip(X_train_features_maps[0].keys(), log_odds)}\n",
        "lr_features_no_log = {k: v for k, v in zip(X_train_features_maps[0].keys(), odds)}\n",
        "\n",
        "print(\"log\", lr_features_log)\n",
        "print(\"no_log\", lr_features_no_log)"
      ]
    },
    {
      "cell_type": "markdown",
      "metadata": {
        "id": "hCtQNHq9zVDv"
      },
      "source": [
        "## Extracting the Features of the Validation Set"
      ]
    },
    {
      "cell_type": "code",
      "execution_count": null,
      "metadata": {
        "colab": {
          "base_uri": "https://localhost:8080/"
        },
        "id": "5c-kRb2gzUE1",
        "outputId": "2c4bda6a-e094-4201-c3eb-af7f5fb85e9a"
      },
      "outputs": [],
      "source": [
        "X_val_features_map = []\n",
        "\n",
        "for knowledge, conditioned_text, generated_text in tqdm(X_val, desc=\"Processing\"):\n",
        "    X_val_features_map.append(\n",
        "        extract_features(\n",
        "            knowledge, conditioned_text, generated_text, features_to_extract\n",
        "        )\n",
        "    )\n",
        "    torch.cuda.empty_cache()"
      ]
    },
    {
      "cell_type": "code",
      "execution_count": null,
      "metadata": {
        "id": "dI45BIF9zUHO"
      },
      "outputs": [],
      "source": [
        "X_val_features = [list(dic.values()) for dic in X_val_features_map]"
      ]
    },
    {
      "cell_type": "markdown",
      "metadata": {},
      "source": [
        "## Uncomment nex cell if you have a validation set and you want to see LR accuracy on it."
      ]
    },
    {
      "cell_type": "code",
      "execution_count": null,
      "metadata": {
        "colab": {
          "base_uri": "https://localhost:8080/",
          "height": 408
        },
        "id": "W4t1F1y9zUJf",
        "outputId": "0ae6bbad-ff42-476a-ed36-17267e4a1004"
      },
      "outputs": [],
      "source": [
        "# from sklearn.metrics import accuracy_score\n",
        "\n",
        "# Y_Pred = clf.predict(X_val_features)\n",
        "\n",
        "# accuracy = accuracy_score(Y_val, Y_Pred)\n",
        "# print(f\"Accuracy: {accuracy * 100:.2f}%\")"
      ]
    },
    {
      "cell_type": "markdown",
      "metadata": {
        "id": "ITx_0w7BTCce"
      },
      "source": [
        "## Extracting the Features of the Test Set"
      ]
    },
    {
      "cell_type": "code",
      "execution_count": null,
      "metadata": {
        "colab": {
          "base_uri": "https://localhost:8080/"
        },
        "id": "Yg60b4WcS5Nw",
        "outputId": "6e9e5b2c-c33e-4bca-c18d-974c30c55b69"
      },
      "outputs": [],
      "source": [
        "from tqdm import tqdm\n",
        "\n",
        "X_test_features_map = []\n",
        "\n",
        "for knowledge, conditioned_text, generated_text in tqdm(X_test, desc=\"Processing\"):\n",
        "    X_test_features_map.append(\n",
        "        extract_features(\n",
        "            knowledge, conditioned_text, generated_text, features_to_extract\n",
        "        )\n",
        "    )\n",
        "    torch.cuda.empty_cache()"
      ]
    },
    {
      "cell_type": "code",
      "execution_count": null,
      "metadata": {
        "id": "kOmEOFRY-fci"
      },
      "outputs": [],
      "source": [
        "X_test_features = [list(dic.values()) for dic in X_test_features_map]"
      ]
    },
    {
      "cell_type": "markdown",
      "metadata": {
        "id": "jaW4-c3XSzfP"
      },
      "source": [
        "## Evaluate accuracy of the LogisticRegression on the testing set"
      ]
    },
    {
      "cell_type": "code",
      "execution_count": null,
      "metadata": {
        "colab": {
          "base_uri": "https://localhost:8080/"
        },
        "id": "f6_VRaKTQgu8",
        "outputId": "6e836007-5968-4930-b19e-c039adc19866"
      },
      "outputs": [],
      "source": [
        "from sklearn.metrics import accuracy_score\n",
        "\n",
        "Y_Pred = clf.predict(X_test_features)\n",
        "\n",
        "lr_accuracy = accuracy_score(Y_test, Y_Pred)\n",
        "print(f\"Accuracy: {lr_accuracy * 100:.2f}%\")"
      ]
    },
    {
      "cell_type": "code",
      "execution_count": null,
      "metadata": {
        "colab": {
          "base_uri": "https://localhost:8080/",
          "height": 225
        },
        "id": "8pMh03rcrs6m",
        "outputId": "f43bd567-d3a9-4401-c2c3-9429c8c2645f"
      },
      "outputs": [],
      "source": [
        "log_odds = clf.coef_[0]\n",
        "pd.DataFrame(log_odds, X_train_features_maps[0].keys(), columns=[\"coef\"]).sort_values(\n",
        "    by=\"coef\", ascending=False\n",
        ")"
      ]
    },
    {
      "cell_type": "code",
      "execution_count": null,
      "metadata": {
        "colab": {
          "base_uri": "https://localhost:8080/",
          "height": 225
        },
        "id": "E4b53IT53_B7",
        "outputId": "f0d14aa0-3991-4f8d-cd95-5e35380d8e5e"
      },
      "outputs": [],
      "source": [
        "odds = np.exp(clf.coef_[0])\n",
        "pd.DataFrame(odds, X_train_features_maps[0].keys(), columns=[\"coef\"]).sort_values(\n",
        "    by=\"coef\", ascending=False\n",
        ")"
      ]
    },
    {
      "cell_type": "code",
      "execution_count": null,
      "metadata": {
        "id": "5FFCFqGLTMez"
      },
      "outputs": [],
      "source": [
        "import torch.nn as nn\n",
        "\n",
        "\n",
        "class SimpleDenseNet(nn.Module):\n",
        "    def __init__(self, input_dim: int, hidden_dim: int, output_dim=1, dropout_prob=0.3):\n",
        "        super(SimpleDenseNet, self).__init__()\n",
        "        self.fc1 = nn.Linear(input_dim, hidden_dim)\n",
        "        self.relu = nn.ReLU()\n",
        "        self.fc2 = nn.Linear(hidden_dim, hidden_dim)\n",
        "        self.fc3 = nn.Linear(hidden_dim, output_dim)\n",
        "        self.sigmoid = nn.Sigmoid()\n",
        "\n",
        "    def forward(self, x):\n",
        "        x = self.fc1(x)\n",
        "        x = self.relu(x)\n",
        "        x = self.fc2(x)\n",
        "        x = self.relu(x)\n",
        "        x = self.fc3(x)\n",
        "        x = self.sigmoid(x)\n",
        "        return x"
      ]
    },
    {
      "cell_type": "code",
      "execution_count": null,
      "metadata": {},
      "outputs": [],
      "source": [
        "denseModel = SimpleDenseNet(\n",
        "    input_dim=np.array([v for v in features_to_extract.values()]).sum(), hidden_dim=512\n",
        ").to(device)"
      ]
    },
    {
      "cell_type": "markdown",
      "metadata": {
        "id": "9FeJQkPQQjFM"
      },
      "source": [
        "# Code declaring and computing all the metrics to measure"
      ]
    },
    {
      "cell_type": "code",
      "execution_count": null,
      "metadata": {
        "id": "Zb_0po_9QiKs"
      },
      "outputs": [],
      "source": [
        "from sklearn.metrics import (\n",
        "    accuracy_score,\n",
        "    precision_score,\n",
        "    recall_score,\n",
        "    f1_score,\n",
        "    confusion_matrix,\n",
        "    roc_auc_score,\n",
        "    precision_recall_curve,\n",
        "    auc\n",
        ")\n",
        "\n",
        "\n",
        "def compute_metrics(model, input_tensor, true_labels):\n",
        "    with torch.no_grad():\n",
        "        outputs = model(input_tensor)\n",
        "        predicted_probs = torch.sigmoid(outputs).cpu().numpy()\n",
        "        predicted = (outputs > 0.5).float().cpu().numpy()\n",
        "\n",
        "        true_labels = true_labels.cpu().numpy()\n",
        "\n",
        "        acc = accuracy_score(true_labels, predicted)\n",
        "        precision = precision_score(true_labels, predicted)\n",
        "        recall = recall_score(true_labels, predicted)\n",
        "        f1 = f1_score(true_labels, predicted)\n",
        "\n",
        "        precision_negative = precision_score(true_labels, predicted, pos_label=0)\n",
        "        recall_negative = recall_score(true_labels, predicted, pos_label=0)\n",
        "        f1_negative = f1_score(true_labels, predicted, pos_label=0)\n",
        "\n",
        "        tn, fp, fn, tp = confusion_matrix(true_labels, predicted).ravel()\n",
        "        roc_auc = roc_auc_score(true_labels, predicted_probs)\n",
        "\n",
        "        P, R, thre = precision_recall_curve(true_labels, predicted, pos_label=1)\n",
        "        pr_auc = auc(R, P)\n",
        "\n",
        "        roc_auc_negative = roc_auc_score(\n",
        "            true_labels, 1 - predicted_probs\n",
        "        )  # If predicted_probs is the probability of the positive class\n",
        "        P_neg, R_neg, _ = precision_recall_curve(true_labels, predicted, pos_label=0)\n",
        "        pr_auc_negative = auc(R_neg, P_neg)\n",
        "\n",
        "        return {\n",
        "            \"Accuracy\": acc,\n",
        "            \"Precision\": precision,\n",
        "            \"Recall\": recall,\n",
        "            \"F1\": f1,\n",
        "            \"TP\": tp,\n",
        "            \"TN\": tn,\n",
        "            \"FP\": fp,\n",
        "            \"FN\": fn,\n",
        "            \"ROC AUC\": roc_auc,\n",
        "            \"PR AUC\": pr_auc,\n",
        "            \"Precision-Negative\": precision_negative,\n",
        "            \"Recall-Negative\": recall_negative,\n",
        "            \"F1-Negative\": f1_negative,\n",
        "            \"ROC AUC-Negative\": roc_auc_negative,\n",
        "            \"PR AUC-Negative\": pr_auc_negative,\n",
        "        }"
      ]
    },
    {
      "cell_type": "markdown",
      "metadata": {
        "id": "68Fi6-lJUP11"
      },
      "source": [
        "## Code for training the Dense Model and getting the result of all metrics corresponding to the Testing Set."
      ]
    },
    {
      "cell_type": "code",
      "execution_count": null,
      "metadata": {
        "id": "eNtGdq4b-8wo"
      },
      "outputs": [],
      "source": [
        "def compute_accuracy(model, input_tensor, true_labels):\n",
        "    with torch.no_grad():\n",
        "        outputs = model(input_tensor)\n",
        "        predicted = (outputs > 0.5).float()\n",
        "        correct = (predicted == true_labels).float().sum()\n",
        "        accuracy = correct / len(true_labels)\n",
        "        return accuracy.item()\n",
        "\n",
        "\n",
        "X_train_tensor = torch.tensor(X_train_features, dtype=torch.float32).to(device)\n",
        "Y_train_tensor = torch.tensor(Y_train, dtype=torch.float32).view(-1, 1).to(device)\n",
        "\n",
        "print(X_train_tensor.shape, Y_train_tensor.shape)\n",
        "\n",
        "# Define loss and optimizer\n",
        "criterion = nn.BCELoss()\n",
        "optimizer = torch.optim.Adam(denseModel.parameters(), lr=0.001)\n",
        "\n",
        "bestValAcc = 0\n",
        "# Training loop\n",
        "num_epochs = 20000\n",
        "for epoch in range(num_epochs):\n",
        "    denseModel.train()\n",
        "    optimizer.zero_grad()\n",
        "    outputs = denseModel(X_train_tensor)\n",
        "    loss = criterion(outputs, Y_train_tensor)\n",
        "    loss.backward()\n",
        "    optimizer.step()\n",
        "\n",
        "    # Compute training accuracy\n",
        "    train_accuracy = compute_accuracy(denseModel, X_train_tensor, Y_train_tensor)\n",
        "\n",
        "    # Uncomment this if you want to see how the accuracy of testing improves during the training process.\n",
        "    ##Compute testing accuracy\n",
        "    # X_val_tensor = torch.tensor(X_val_features, dtype=torch.float32).to(device)\n",
        "    # Y_val_tensor = torch.tensor(Y_val, dtype=torch.float32).view(-1, 1).to(device)\n",
        "\n",
        "    # val_accuracy = compute_accuracy(denseModel, X_val_tensor, Y_val_tensor)\n",
        "\n",
        "    # if bestValAcc < val_accuracy:\n",
        "    #     bestValAcc = val_accuracy\n",
        "    #     print(f'Saving model with best validation accuracy ...')\n",
        "    #     torch.save(denseModel.state_dict(), 'llama-' + task + '-best-model')\n",
        "\n",
        "    if (epoch + 1) % 10 == 0:\n",
        "        print(\n",
        "            f\"Epoch [{epoch+1}/{num_epochs}], Loss: {loss.item():.4f}, Training Accuracy: {train_accuracy:.4f}\"\n",
        "        )  # , \"Validation Accuracy\": {val_accuracy:.4f}')"
      ]
    },
    {
      "cell_type": "markdown",
      "metadata": {},
      "source": [
        "## Uncomment next cell if you want to load a particular model you already trained."
      ]
    },
    {
      "cell_type": "code",
      "execution_count": null,
      "metadata": {
        "id": "bafIJlAtv5hT"
      },
      "outputs": [],
      "source": [
        "# loaded_model = SimpleDenseNet(input_dim=len(list(features_to_extract.keys())), hidden_dim=512).to(device)\n",
        "# loaded_model.load_state_dict(torch.load('llama-' + task + '-best-model'))\n",
        "\n",
        "# # Set the model to evaluation mode\"\n",
        "# loaded_model.eval()"
      ]
    },
    {
      "cell_type": "markdown",
      "metadata": {
        "id": "bE9X728RRHRK"
      },
      "source": [
        "#Compute the metrics using the model on the Test Set."
      ]
    },
    {
      "cell_type": "code",
      "execution_count": null,
      "metadata": {
        "colab": {
          "base_uri": "https://localhost:8080/"
        },
        "id": "9ntxC26m--ma",
        "outputId": "fcb095e0-3d72-46e2-d887-05f73e09a4bd"
      },
      "outputs": [],
      "source": [
        "X_test_tensor = torch.tensor(X_test_features, dtype=torch.float32).to(device)\n",
        "Y_test_tensor = torch.tensor(Y_test, dtype=torch.float32).view(-1, 1).to(device)\n",
        "\n",
        "test_metrics = compute_metrics(denseModel, X_test_tensor, Y_test_tensor)\n",
        "\n",
        "print(\n",
        "    f\"Testing - Accuracy: {test_metrics['Accuracy']:.4f}, Precision: {test_metrics['Precision']:.4f}, Recall: {test_metrics['Recall']:.4f}, F1: {test_metrics['F1']:.4f}, ROC AUC: {test_metrics['ROC AUC']:.4f}, PR AUC: {test_metrics['PR AUC']:.4f}\"\n",
        ")\n",
        "print(\n",
        "    f\"Testing - Negative: {test_metrics['Accuracy']:.4f}, Precision-Negative: {test_metrics['Precision-Negative']:.4f}, Recall-Negative: {test_metrics['Recall-Negative']:.4f}, F1-Negative: {test_metrics['F1-Negative']:.4f}, ROC AUC-Negative: {test_metrics['ROC AUC-Negative']:.4f}, PR AUC-Negative: {test_metrics['PR AUC-Negative']:.4f}\"\n",
        ")"
      ]
    },
    {
      "cell_type": "markdown",
      "metadata": {
        "id": "y-RlivuLRN0H"
      },
      "source": [
        "## Save the results on a CSV if you want."
      ]
    },
    {
      "cell_type": "code",
      "execution_count": null,
      "metadata": {
        "id": "boqJczJoL4lW"
      },
      "outputs": [],
      "source": [
        "model_dataframe = pd.DataFrame(\n",
        "    columns=[\n",
        "        \"features\",\n",
        "        \"model_name\",\n",
        "        \"feature_to_extract\",\n",
        "        \"method\",\n",
        "        \"accuracy\",\n",
        "        \"precision\",\n",
        "        \"recall\",\n",
        "        \"roc auc\",\n",
        "        \"pr auc\",\n",
        "        \"negative\",\n",
        "        \"precision-negative\",\n",
        "        \"recall-negative\",\n",
        "        \"negative f1\",\n",
        "        \"lr_accuracy\",\n",
        "        \"lr_features_log\",\n",
        "        \"lr_features_no_log\",\n",
        "    ]\n",
        ")"
      ]
    },
    {
      "cell_type": "code",
      "execution_count": null,
      "metadata": {
        "id": "NJQ56NLzL5Tv"
      },
      "outputs": [],
      "source": [
        "d = {\n",
        "    \"features\": features_to_extract,\n",
        "    \"model_name\": str(model.getName()),\n",
        "    \"feature_to_extract\": feature_to_extract,\n",
        "    \"method\": \"TEST\",\n",
        "    \"accuracy\": test_metrics[\"Accuracy\"],\n",
        "    \"precision\": test_metrics[\"Precision\"],\n",
        "    \"recall\": test_metrics[\"Recall\"],\n",
        "    \"f1\": test_metrics[\"F1\"],\n",
        "    \"pr auc\": test_metrics[\"PR AUC\"],\n",
        "    \"precision-negative\": test_metrics[\"Precision-Negative\"],\n",
        "    \"recall-negative\": test_metrics[\"Recall-Negative\"],\n",
        "    \"negative-f1\": test_metrics[\"F1-Negative\"],\n",
        "    \"lr_accuracy\": lr_accuracy,\n",
        "    \"lr_features_log\": lr_features_log,\n",
        "    \"lr_features_no_log\": lr_features_no_log,\n",
        "}\n",
        "\n",
        "model_dataframe.loc[len(model_dataframe.index)] = d"
      ]
    },
    {
      "cell_type": "code",
      "execution_count": null,
      "metadata": {
        "id": "XNMNRvxvMO_o"
      },
      "outputs": [],
      "source": [
        "model_dataframe.head()"
      ]
    },
    {
      "cell_type": "code",
      "execution_count": null,
      "metadata": {
        "id": "6tGhxo6SMRvc"
      },
      "outputs": [],
      "source": [
        "csv_name = f\"{model.getSanitizedName()}_{task}_{includeKnowledge=}_{includeConditioned=}_{'_'.join([f'{k}={v}' for k, v in features_to_extract.items()])}.csv\"\n",
        "model_dataframe.to_csv(output_path / csv_name, index=False)"
      ]
    }
  ],
  "metadata": {
    "accelerator": "GPU",
    "colab": {
      "gpuType": "T4",
      "machine_shape": "hm",
      "provenance": []
    },
    "kernelspec": {
      "display_name": "Python 3",
      "name": "python3"
    },
    "language_info": {
      "codemirror_mode": {
        "name": "ipython",
        "version": 3
      },
      "file_extension": ".py",
      "mimetype": "text/x-python",
      "name": "python",
      "nbconvert_exporter": "python",
      "pygments_lexer": "ipython3",
      "version": "3.10.4"
    },
    "widgets": {
      "application/vnd.jupyter.widget-state+json": {
        "0006c2b3cdf04a0aa6df9a67f786e22c": {
          "model_module": "@jupyter-widgets/base",
          "model_module_version": "1.2.0",
          "model_name": "LayoutModel",
          "state": {
            "_model_module": "@jupyter-widgets/base",
            "_model_module_version": "1.2.0",
            "_model_name": "LayoutModel",
            "_view_count": null,
            "_view_module": "@jupyter-widgets/base",
            "_view_module_version": "1.2.0",
            "_view_name": "LayoutView",
            "align_content": null,
            "align_items": null,
            "align_self": null,
            "border": null,
            "bottom": null,
            "display": null,
            "flex": null,
            "flex_flow": null,
            "grid_area": null,
            "grid_auto_columns": null,
            "grid_auto_flow": null,
            "grid_auto_rows": null,
            "grid_column": null,
            "grid_gap": null,
            "grid_row": null,
            "grid_template_areas": null,
            "grid_template_columns": null,
            "grid_template_rows": null,
            "height": null,
            "justify_content": null,
            "justify_items": null,
            "left": null,
            "margin": null,
            "max_height": null,
            "max_width": null,
            "min_height": null,
            "min_width": null,
            "object_fit": null,
            "object_position": null,
            "order": null,
            "overflow": null,
            "overflow_x": null,
            "overflow_y": null,
            "padding": null,
            "right": null,
            "top": null,
            "visibility": null,
            "width": null
          }
        },
        "0409f0470b6946eabe5b539b3589f521": {
          "model_module": "@jupyter-widgets/base",
          "model_module_version": "1.2.0",
          "model_name": "LayoutModel",
          "state": {
            "_model_module": "@jupyter-widgets/base",
            "_model_module_version": "1.2.0",
            "_model_name": "LayoutModel",
            "_view_count": null,
            "_view_module": "@jupyter-widgets/base",
            "_view_module_version": "1.2.0",
            "_view_name": "LayoutView",
            "align_content": null,
            "align_items": null,
            "align_self": null,
            "border": null,
            "bottom": null,
            "display": null,
            "flex": null,
            "flex_flow": null,
            "grid_area": null,
            "grid_auto_columns": null,
            "grid_auto_flow": null,
            "grid_auto_rows": null,
            "grid_column": null,
            "grid_gap": null,
            "grid_row": null,
            "grid_template_areas": null,
            "grid_template_columns": null,
            "grid_template_rows": null,
            "height": null,
            "justify_content": null,
            "justify_items": null,
            "left": null,
            "margin": null,
            "max_height": null,
            "max_width": null,
            "min_height": null,
            "min_width": null,
            "object_fit": null,
            "object_position": null,
            "order": null,
            "overflow": null,
            "overflow_x": null,
            "overflow_y": null,
            "padding": null,
            "right": null,
            "top": null,
            "visibility": null,
            "width": null
          }
        },
        "054ab9b730dd4f909e711338205950f5": {
          "model_module": "@jupyter-widgets/base",
          "model_module_version": "1.2.0",
          "model_name": "LayoutModel",
          "state": {
            "_model_module": "@jupyter-widgets/base",
            "_model_module_version": "1.2.0",
            "_model_name": "LayoutModel",
            "_view_count": null,
            "_view_module": "@jupyter-widgets/base",
            "_view_module_version": "1.2.0",
            "_view_name": "LayoutView",
            "align_content": null,
            "align_items": null,
            "align_self": null,
            "border": null,
            "bottom": null,
            "display": null,
            "flex": null,
            "flex_flow": null,
            "grid_area": null,
            "grid_auto_columns": null,
            "grid_auto_flow": null,
            "grid_auto_rows": null,
            "grid_column": null,
            "grid_gap": null,
            "grid_row": null,
            "grid_template_areas": null,
            "grid_template_columns": null,
            "grid_template_rows": null,
            "height": null,
            "justify_content": null,
            "justify_items": null,
            "left": null,
            "margin": null,
            "max_height": null,
            "max_width": null,
            "min_height": null,
            "min_width": null,
            "object_fit": null,
            "object_position": null,
            "order": null,
            "overflow": null,
            "overflow_x": null,
            "overflow_y": null,
            "padding": null,
            "right": null,
            "top": null,
            "visibility": null,
            "width": null
          }
        },
        "076ee3f0e6f64a80a30ad7d1e42629d6": {
          "model_module": "@jupyter-widgets/controls",
          "model_module_version": "1.5.0",
          "model_name": "ProgressStyleModel",
          "state": {
            "_model_module": "@jupyter-widgets/controls",
            "_model_module_version": "1.5.0",
            "_model_name": "ProgressStyleModel",
            "_view_count": null,
            "_view_module": "@jupyter-widgets/base",
            "_view_module_version": "1.2.0",
            "_view_name": "StyleView",
            "bar_color": null,
            "description_width": ""
          }
        },
        "1b9bd5dc03b84c0083b94943d1361d6f": {
          "model_module": "@jupyter-widgets/base",
          "model_module_version": "1.2.0",
          "model_name": "LayoutModel",
          "state": {
            "_model_module": "@jupyter-widgets/base",
            "_model_module_version": "1.2.0",
            "_model_name": "LayoutModel",
            "_view_count": null,
            "_view_module": "@jupyter-widgets/base",
            "_view_module_version": "1.2.0",
            "_view_name": "LayoutView",
            "align_content": null,
            "align_items": null,
            "align_self": null,
            "border": null,
            "bottom": null,
            "display": null,
            "flex": null,
            "flex_flow": null,
            "grid_area": null,
            "grid_auto_columns": null,
            "grid_auto_flow": null,
            "grid_auto_rows": null,
            "grid_column": null,
            "grid_gap": null,
            "grid_row": null,
            "grid_template_areas": null,
            "grid_template_columns": null,
            "grid_template_rows": null,
            "height": null,
            "justify_content": null,
            "justify_items": null,
            "left": null,
            "margin": null,
            "max_height": null,
            "max_width": null,
            "min_height": null,
            "min_width": null,
            "object_fit": null,
            "object_position": null,
            "order": null,
            "overflow": null,
            "overflow_x": null,
            "overflow_y": null,
            "padding": null,
            "right": null,
            "top": null,
            "visibility": null,
            "width": null
          }
        },
        "2232393916e349deb72bc20ac61c3bd7": {
          "model_module": "@jupyter-widgets/controls",
          "model_module_version": "1.5.0",
          "model_name": "DescriptionStyleModel",
          "state": {
            "_model_module": "@jupyter-widgets/controls",
            "_model_module_version": "1.5.0",
            "_model_name": "DescriptionStyleModel",
            "_view_count": null,
            "_view_module": "@jupyter-widgets/base",
            "_view_module_version": "1.2.0",
            "_view_name": "StyleView",
            "description_width": ""
          }
        },
        "27ae621aa1fb46749e61098f2e78990e": {
          "model_module": "@jupyter-widgets/controls",
          "model_module_version": "1.5.0",
          "model_name": "ProgressStyleModel",
          "state": {
            "_model_module": "@jupyter-widgets/controls",
            "_model_module_version": "1.5.0",
            "_model_name": "ProgressStyleModel",
            "_view_count": null,
            "_view_module": "@jupyter-widgets/base",
            "_view_module_version": "1.2.0",
            "_view_name": "StyleView",
            "bar_color": null,
            "description_width": ""
          }
        },
        "2cbaee8118c44153997b1d251b350744": {
          "model_module": "@jupyter-widgets/controls",
          "model_module_version": "1.5.0",
          "model_name": "DescriptionStyleModel",
          "state": {
            "_model_module": "@jupyter-widgets/controls",
            "_model_module_version": "1.5.0",
            "_model_name": "DescriptionStyleModel",
            "_view_count": null,
            "_view_module": "@jupyter-widgets/base",
            "_view_module_version": "1.2.0",
            "_view_name": "StyleView",
            "description_width": ""
          }
        },
        "2dd132e1bbdb4fb4ac2bfd7362320201": {
          "model_module": "@jupyter-widgets/controls",
          "model_module_version": "1.5.0",
          "model_name": "HTMLModel",
          "state": {
            "_dom_classes": [],
            "_model_module": "@jupyter-widgets/controls",
            "_model_module_version": "1.5.0",
            "_model_name": "HTMLModel",
            "_view_count": null,
            "_view_module": "@jupyter-widgets/controls",
            "_view_module_version": "1.5.0",
            "_view_name": "HTMLView",
            "description": "",
            "description_tooltip": null,
            "layout": "IPY_MODEL_ec83dd4e6c3c461da065a91cc7adba45",
            "placeholder": "​",
            "style": "IPY_MODEL_884680a128e24097bd1451a0b1ac3e0a",
            "value": " 1.04M/1.04M [00:00&lt;00:00, 6.39MB/s]"
          }
        },
        "31eff2c794584fd9a187f26f23f070b9": {
          "model_module": "@jupyter-widgets/controls",
          "model_module_version": "1.5.0",
          "model_name": "ProgressStyleModel",
          "state": {
            "_model_module": "@jupyter-widgets/controls",
            "_model_module_version": "1.5.0",
            "_model_name": "ProgressStyleModel",
            "_view_count": null,
            "_view_module": "@jupyter-widgets/base",
            "_view_module_version": "1.2.0",
            "_view_name": "StyleView",
            "bar_color": null,
            "description_width": ""
          }
        },
        "3895f9f23123442aa8625d0317f7d856": {
          "model_module": "@jupyter-widgets/controls",
          "model_module_version": "1.5.0",
          "model_name": "ProgressStyleModel",
          "state": {
            "_model_module": "@jupyter-widgets/controls",
            "_model_module_version": "1.5.0",
            "_model_name": "ProgressStyleModel",
            "_view_count": null,
            "_view_module": "@jupyter-widgets/base",
            "_view_module_version": "1.2.0",
            "_view_name": "StyleView",
            "bar_color": null,
            "description_width": ""
          }
        },
        "3afbd438492c4873ba6c99d39b949752": {
          "model_module": "@jupyter-widgets/controls",
          "model_module_version": "1.5.0",
          "model_name": "HTMLModel",
          "state": {
            "_dom_classes": [],
            "_model_module": "@jupyter-widgets/controls",
            "_model_module_version": "1.5.0",
            "_model_name": "HTMLModel",
            "_view_count": null,
            "_view_module": "@jupyter-widgets/controls",
            "_view_module_version": "1.5.0",
            "_view_name": "HTMLView",
            "description": "",
            "description_tooltip": null,
            "layout": "IPY_MODEL_9435679a05a941a792e2474f75978385",
            "placeholder": "​",
            "style": "IPY_MODEL_d542096ea2d441ba91698399af48a2af",
            "value": "config.json: 100%"
          }
        },
        "3e5f509de6b24e209ac2a43d116ae064": {
          "model_module": "@jupyter-widgets/controls",
          "model_module_version": "1.5.0",
          "model_name": "FloatProgressModel",
          "state": {
            "_dom_classes": [],
            "_model_module": "@jupyter-widgets/controls",
            "_model_module_version": "1.5.0",
            "_model_name": "FloatProgressModel",
            "_view_count": null,
            "_view_module": "@jupyter-widgets/controls",
            "_view_module_version": "1.5.0",
            "_view_name": "ProgressView",
            "bar_style": "success",
            "description": "",
            "description_tooltip": null,
            "layout": "IPY_MODEL_de85041e44f7432b9c58de466a95968a",
            "max": 3247159078,
            "min": 0,
            "orientation": "horizontal",
            "style": "IPY_MODEL_076ee3f0e6f64a80a30ad7d1e42629d6",
            "value": 3247159078
          }
        },
        "4a5a39bfc9f0429a910120e8e3cabe8f": {
          "model_module": "@jupyter-widgets/base",
          "model_module_version": "1.2.0",
          "model_name": "LayoutModel",
          "state": {
            "_model_module": "@jupyter-widgets/base",
            "_model_module_version": "1.2.0",
            "_model_name": "LayoutModel",
            "_view_count": null,
            "_view_module": "@jupyter-widgets/base",
            "_view_module_version": "1.2.0",
            "_view_name": "LayoutView",
            "align_content": null,
            "align_items": null,
            "align_self": null,
            "border": null,
            "bottom": null,
            "display": null,
            "flex": null,
            "flex_flow": null,
            "grid_area": null,
            "grid_auto_columns": null,
            "grid_auto_flow": null,
            "grid_auto_rows": null,
            "grid_column": null,
            "grid_gap": null,
            "grid_row": null,
            "grid_template_areas": null,
            "grid_template_columns": null,
            "grid_template_rows": null,
            "height": null,
            "justify_content": null,
            "justify_items": null,
            "left": null,
            "margin": null,
            "max_height": null,
            "max_width": null,
            "min_height": null,
            "min_width": null,
            "object_fit": null,
            "object_position": null,
            "order": null,
            "overflow": null,
            "overflow_x": null,
            "overflow_y": null,
            "padding": null,
            "right": null,
            "top": null,
            "visibility": null,
            "width": null
          }
        },
        "4d614251c35b4ab3b9d7214909c80aae": {
          "model_module": "@jupyter-widgets/controls",
          "model_module_version": "1.5.0",
          "model_name": "DescriptionStyleModel",
          "state": {
            "_model_module": "@jupyter-widgets/controls",
            "_model_module_version": "1.5.0",
            "_model_name": "DescriptionStyleModel",
            "_view_count": null,
            "_view_module": "@jupyter-widgets/base",
            "_view_module_version": "1.2.0",
            "_view_name": "StyleView",
            "description_width": ""
          }
        },
        "512f8fb2ca404adfa43933752b5b4990": {
          "model_module": "@jupyter-widgets/base",
          "model_module_version": "1.2.0",
          "model_name": "LayoutModel",
          "state": {
            "_model_module": "@jupyter-widgets/base",
            "_model_module_version": "1.2.0",
            "_model_name": "LayoutModel",
            "_view_count": null,
            "_view_module": "@jupyter-widgets/base",
            "_view_module_version": "1.2.0",
            "_view_name": "LayoutView",
            "align_content": null,
            "align_items": null,
            "align_self": null,
            "border": null,
            "bottom": null,
            "display": null,
            "flex": null,
            "flex_flow": null,
            "grid_area": null,
            "grid_auto_columns": null,
            "grid_auto_flow": null,
            "grid_auto_rows": null,
            "grid_column": null,
            "grid_gap": null,
            "grid_row": null,
            "grid_template_areas": null,
            "grid_template_columns": null,
            "grid_template_rows": null,
            "height": null,
            "justify_content": null,
            "justify_items": null,
            "left": null,
            "margin": null,
            "max_height": null,
            "max_width": null,
            "min_height": null,
            "min_width": null,
            "object_fit": null,
            "object_position": null,
            "order": null,
            "overflow": null,
            "overflow_x": null,
            "overflow_y": null,
            "padding": null,
            "right": null,
            "top": null,
            "visibility": null,
            "width": null
          }
        },
        "5222d4e05153479887f194d9f8bb7165": {
          "model_module": "@jupyter-widgets/base",
          "model_module_version": "1.2.0",
          "model_name": "LayoutModel",
          "state": {
            "_model_module": "@jupyter-widgets/base",
            "_model_module_version": "1.2.0",
            "_model_name": "LayoutModel",
            "_view_count": null,
            "_view_module": "@jupyter-widgets/base",
            "_view_module_version": "1.2.0",
            "_view_name": "LayoutView",
            "align_content": null,
            "align_items": null,
            "align_self": null,
            "border": null,
            "bottom": null,
            "display": null,
            "flex": null,
            "flex_flow": null,
            "grid_area": null,
            "grid_auto_columns": null,
            "grid_auto_flow": null,
            "grid_auto_rows": null,
            "grid_column": null,
            "grid_gap": null,
            "grid_row": null,
            "grid_template_areas": null,
            "grid_template_columns": null,
            "grid_template_rows": null,
            "height": null,
            "justify_content": null,
            "justify_items": null,
            "left": null,
            "margin": null,
            "max_height": null,
            "max_width": null,
            "min_height": null,
            "min_width": null,
            "object_fit": null,
            "object_position": null,
            "order": null,
            "overflow": null,
            "overflow_x": null,
            "overflow_y": null,
            "padding": null,
            "right": null,
            "top": null,
            "visibility": null,
            "width": null
          }
        },
        "534f2d965c8548638293c8cce181eca3": {
          "model_module": "@jupyter-widgets/controls",
          "model_module_version": "1.5.0",
          "model_name": "FloatProgressModel",
          "state": {
            "_dom_classes": [],
            "_model_module": "@jupyter-widgets/controls",
            "_model_module_version": "1.5.0",
            "_model_name": "FloatProgressModel",
            "_view_count": null,
            "_view_module": "@jupyter-widgets/controls",
            "_view_module_version": "1.5.0",
            "_view_name": "ProgressView",
            "bar_style": "success",
            "description": "",
            "description_tooltip": null,
            "layout": "IPY_MODEL_8bf6901510d1405ba1e11dbfae99e64f",
            "max": 1355256,
            "min": 0,
            "orientation": "horizontal",
            "style": "IPY_MODEL_31eff2c794584fd9a187f26f23f070b9",
            "value": 1355256
          }
        },
        "55370b5cee4b4db5bbab3ed306089fb0": {
          "model_module": "@jupyter-widgets/controls",
          "model_module_version": "1.5.0",
          "model_name": "HTMLModel",
          "state": {
            "_dom_classes": [],
            "_model_module": "@jupyter-widgets/controls",
            "_model_module_version": "1.5.0",
            "_model_name": "HTMLModel",
            "_view_count": null,
            "_view_module": "@jupyter-widgets/controls",
            "_view_module_version": "1.5.0",
            "_view_name": "HTMLView",
            "description": "",
            "description_tooltip": null,
            "layout": "IPY_MODEL_1b9bd5dc03b84c0083b94943d1361d6f",
            "placeholder": "​",
            "style": "IPY_MODEL_9ec59d9d599241659315c51f1e2f557b",
            "value": "vocab.json: 100%"
          }
        },
        "580c6068c3ca40d88180a213d41e8fff": {
          "model_module": "@jupyter-widgets/controls",
          "model_module_version": "1.5.0",
          "model_name": "HBoxModel",
          "state": {
            "_dom_classes": [],
            "_model_module": "@jupyter-widgets/controls",
            "_model_module_version": "1.5.0",
            "_model_name": "HBoxModel",
            "_view_count": null,
            "_view_module": "@jupyter-widgets/controls",
            "_view_module_version": "1.5.0",
            "_view_name": "HBoxView",
            "box_style": "",
            "children": [
              "IPY_MODEL_72d993653d3d4efea6ed47b6b9cf057a",
              "IPY_MODEL_973726c0f5e24b1cb48452c97534cb8f",
              "IPY_MODEL_ea6ab54e02f04d37993b2c4887d5c7ed"
            ],
            "layout": "IPY_MODEL_78c143f681e647ad94d19941c778988d"
          }
        },
        "59948c70bdb44c528e02ba81308a56cc": {
          "model_module": "@jupyter-widgets/controls",
          "model_module_version": "1.5.0",
          "model_name": "ProgressStyleModel",
          "state": {
            "_model_module": "@jupyter-widgets/controls",
            "_model_module_version": "1.5.0",
            "_model_name": "ProgressStyleModel",
            "_view_count": null,
            "_view_module": "@jupyter-widgets/base",
            "_view_module_version": "1.2.0",
            "_view_name": "StyleView",
            "bar_color": null,
            "description_width": ""
          }
        },
        "5d9e549be6394f4b8b487cc8f51eb4a8": {
          "model_module": "@jupyter-widgets/base",
          "model_module_version": "1.2.0",
          "model_name": "LayoutModel",
          "state": {
            "_model_module": "@jupyter-widgets/base",
            "_model_module_version": "1.2.0",
            "_model_name": "LayoutModel",
            "_view_count": null,
            "_view_module": "@jupyter-widgets/base",
            "_view_module_version": "1.2.0",
            "_view_name": "LayoutView",
            "align_content": null,
            "align_items": null,
            "align_self": null,
            "border": null,
            "bottom": null,
            "display": null,
            "flex": null,
            "flex_flow": null,
            "grid_area": null,
            "grid_auto_columns": null,
            "grid_auto_flow": null,
            "grid_auto_rows": null,
            "grid_column": null,
            "grid_gap": null,
            "grid_row": null,
            "grid_template_areas": null,
            "grid_template_columns": null,
            "grid_template_rows": null,
            "height": null,
            "justify_content": null,
            "justify_items": null,
            "left": null,
            "margin": null,
            "max_height": null,
            "max_width": null,
            "min_height": null,
            "min_width": null,
            "object_fit": null,
            "object_position": null,
            "order": null,
            "overflow": null,
            "overflow_x": null,
            "overflow_y": null,
            "padding": null,
            "right": null,
            "top": null,
            "visibility": null,
            "width": null
          }
        },
        "63d2ce276f854602bb02f296857ba020": {
          "model_module": "@jupyter-widgets/controls",
          "model_module_version": "1.5.0",
          "model_name": "HBoxModel",
          "state": {
            "_dom_classes": [],
            "_model_module": "@jupyter-widgets/controls",
            "_model_module_version": "1.5.0",
            "_model_name": "HBoxModel",
            "_view_count": null,
            "_view_module": "@jupyter-widgets/controls",
            "_view_module_version": "1.5.0",
            "_view_name": "HBoxView",
            "box_style": "",
            "children": [
              "IPY_MODEL_cab34f5c61284ce3ad3010563bda7122",
              "IPY_MODEL_3e5f509de6b24e209ac2a43d116ae064",
              "IPY_MODEL_bd172de25a83456c901ef268642883ee"
            ],
            "layout": "IPY_MODEL_5d9e549be6394f4b8b487cc8f51eb4a8"
          }
        },
        "6486665290344283b467a2921dbaee61": {
          "model_module": "@jupyter-widgets/controls",
          "model_module_version": "1.5.0",
          "model_name": "HBoxModel",
          "state": {
            "_dom_classes": [],
            "_model_module": "@jupyter-widgets/controls",
            "_model_module_version": "1.5.0",
            "_model_name": "HBoxModel",
            "_view_count": null,
            "_view_module": "@jupyter-widgets/controls",
            "_view_module_version": "1.5.0",
            "_view_name": "HBoxView",
            "box_style": "",
            "children": [
              "IPY_MODEL_55370b5cee4b4db5bbab3ed306089fb0",
              "IPY_MODEL_b14964cdbe8a498480dfc3d304ba0d7b",
              "IPY_MODEL_2dd132e1bbdb4fb4ac2bfd7362320201"
            ],
            "layout": "IPY_MODEL_0006c2b3cdf04a0aa6df9a67f786e22c"
          }
        },
        "65ab7ee47b174265931b3fd91d4cc4a2": {
          "model_module": "@jupyter-widgets/controls",
          "model_module_version": "1.5.0",
          "model_name": "DescriptionStyleModel",
          "state": {
            "_model_module": "@jupyter-widgets/controls",
            "_model_module_version": "1.5.0",
            "_model_name": "DescriptionStyleModel",
            "_view_count": null,
            "_view_module": "@jupyter-widgets/base",
            "_view_module_version": "1.2.0",
            "_view_name": "StyleView",
            "description_width": ""
          }
        },
        "6aec23935a144fceb51cf92d39d68f5d": {
          "model_module": "@jupyter-widgets/controls",
          "model_module_version": "1.5.0",
          "model_name": "HBoxModel",
          "state": {
            "_dom_classes": [],
            "_model_module": "@jupyter-widgets/controls",
            "_model_module_version": "1.5.0",
            "_model_name": "HBoxModel",
            "_view_count": null,
            "_view_module": "@jupyter-widgets/controls",
            "_view_module_version": "1.5.0",
            "_view_name": "HBoxView",
            "box_style": "",
            "children": [
              "IPY_MODEL_72369f95d12e44298dbf5634b74c13fa",
              "IPY_MODEL_ea54b3f282184db195845f1fdbc86f9b",
              "IPY_MODEL_6c15978810124ae59953508e54844f80"
            ],
            "layout": "IPY_MODEL_5222d4e05153479887f194d9f8bb7165"
          }
        },
        "6c15978810124ae59953508e54844f80": {
          "model_module": "@jupyter-widgets/controls",
          "model_module_version": "1.5.0",
          "model_name": "HTMLModel",
          "state": {
            "_dom_classes": [],
            "_model_module": "@jupyter-widgets/controls",
            "_model_module_version": "1.5.0",
            "_model_name": "HTMLModel",
            "_view_count": null,
            "_view_module": "@jupyter-widgets/controls",
            "_view_module_version": "1.5.0",
            "_view_name": "HTMLView",
            "description": "",
            "description_tooltip": null,
            "layout": "IPY_MODEL_be85927df4874f98a966452726e296e8",
            "placeholder": "​",
            "style": "IPY_MODEL_b234c5707cb74b76a92507f1de368bfb",
            "value": " 456k/456k [00:00&lt;00:00, 2.82MB/s]"
          }
        },
        "70eaf260d9994bcab22ab1de76500107": {
          "model_module": "@jupyter-widgets/controls",
          "model_module_version": "1.5.0",
          "model_name": "HTMLModel",
          "state": {
            "_dom_classes": [],
            "_model_module": "@jupyter-widgets/controls",
            "_model_module_version": "1.5.0",
            "_model_name": "HTMLModel",
            "_view_count": null,
            "_view_module": "@jupyter-widgets/controls",
            "_view_module_version": "1.5.0",
            "_view_name": "HTMLView",
            "description": "",
            "description_tooltip": null,
            "layout": "IPY_MODEL_96085e02e4ab4402bae246fb1839c0d3",
            "placeholder": "​",
            "style": "IPY_MODEL_cd39a3042f2843c4916c2047ae6f43b1",
            "value": " 26.0/26.0 [00:00&lt;00:00, 2.18kB/s]"
          }
        },
        "72369f95d12e44298dbf5634b74c13fa": {
          "model_module": "@jupyter-widgets/controls",
          "model_module_version": "1.5.0",
          "model_name": "HTMLModel",
          "state": {
            "_dom_classes": [],
            "_model_module": "@jupyter-widgets/controls",
            "_model_module_version": "1.5.0",
            "_model_name": "HTMLModel",
            "_view_count": null,
            "_view_module": "@jupyter-widgets/controls",
            "_view_module_version": "1.5.0",
            "_view_name": "HTMLView",
            "description": "",
            "description_tooltip": null,
            "layout": "IPY_MODEL_9be1debef01a4c818d9272c26f199f52",
            "placeholder": "​",
            "style": "IPY_MODEL_2cbaee8118c44153997b1d251b350744",
            "value": "merges.txt: 100%"
          }
        },
        "72d993653d3d4efea6ed47b6b9cf057a": {
          "model_module": "@jupyter-widgets/controls",
          "model_module_version": "1.5.0",
          "model_name": "HTMLModel",
          "state": {
            "_dom_classes": [],
            "_model_module": "@jupyter-widgets/controls",
            "_model_module_version": "1.5.0",
            "_model_name": "HTMLModel",
            "_view_count": null,
            "_view_module": "@jupyter-widgets/controls",
            "_view_module_version": "1.5.0",
            "_view_name": "HTMLView",
            "description": "",
            "description_tooltip": null,
            "layout": "IPY_MODEL_c5550bc06ebe4a37b6789cdaa6329128",
            "placeholder": "​",
            "style": "IPY_MODEL_65ab7ee47b174265931b3fd91d4cc4a2",
            "value": "generation_config.json: 100%"
          }
        },
        "744b41f6f55847e59e4c2985897ebb3f": {
          "model_module": "@jupyter-widgets/controls",
          "model_module_version": "1.5.0",
          "model_name": "FloatProgressModel",
          "state": {
            "_dom_classes": [],
            "_model_module": "@jupyter-widgets/controls",
            "_model_module_version": "1.5.0",
            "_model_name": "FloatProgressModel",
            "_view_count": null,
            "_view_module": "@jupyter-widgets/controls",
            "_view_module_version": "1.5.0",
            "_view_name": "ProgressView",
            "bar_style": "success",
            "description": "",
            "description_tooltip": null,
            "layout": "IPY_MODEL_054ab9b730dd4f909e711338205950f5",
            "max": 26,
            "min": 0,
            "orientation": "horizontal",
            "style": "IPY_MODEL_27ae621aa1fb46749e61098f2e78990e",
            "value": 26
          }
        },
        "78c143f681e647ad94d19941c778988d": {
          "model_module": "@jupyter-widgets/base",
          "model_module_version": "1.2.0",
          "model_name": "LayoutModel",
          "state": {
            "_model_module": "@jupyter-widgets/base",
            "_model_module_version": "1.2.0",
            "_model_name": "LayoutModel",
            "_view_count": null,
            "_view_module": "@jupyter-widgets/base",
            "_view_module_version": "1.2.0",
            "_view_name": "LayoutView",
            "align_content": null,
            "align_items": null,
            "align_self": null,
            "border": null,
            "bottom": null,
            "display": null,
            "flex": null,
            "flex_flow": null,
            "grid_area": null,
            "grid_auto_columns": null,
            "grid_auto_flow": null,
            "grid_auto_rows": null,
            "grid_column": null,
            "grid_gap": null,
            "grid_row": null,
            "grid_template_areas": null,
            "grid_template_columns": null,
            "grid_template_rows": null,
            "height": null,
            "justify_content": null,
            "justify_items": null,
            "left": null,
            "margin": null,
            "max_height": null,
            "max_width": null,
            "min_height": null,
            "min_width": null,
            "object_fit": null,
            "object_position": null,
            "order": null,
            "overflow": null,
            "overflow_x": null,
            "overflow_y": null,
            "padding": null,
            "right": null,
            "top": null,
            "visibility": null,
            "width": null
          }
        },
        "7a3ab257d1f74fbfad760e17a24b6de4": {
          "model_module": "@jupyter-widgets/controls",
          "model_module_version": "1.5.0",
          "model_name": "HTMLModel",
          "state": {
            "_dom_classes": [],
            "_model_module": "@jupyter-widgets/controls",
            "_model_module_version": "1.5.0",
            "_model_name": "HTMLModel",
            "_view_count": null,
            "_view_module": "@jupyter-widgets/controls",
            "_view_module_version": "1.5.0",
            "_view_name": "HTMLView",
            "description": "",
            "description_tooltip": null,
            "layout": "IPY_MODEL_0409f0470b6946eabe5b539b3589f521",
            "placeholder": "​",
            "style": "IPY_MODEL_f5477dbf0abb4af2a50201ab646532c0",
            "value": " 1.36M/1.36M [00:00&lt;00:00, 4.11MB/s]"
          }
        },
        "7edab73b97574a8b88cb6d2d8895c64b": {
          "model_module": "@jupyter-widgets/base",
          "model_module_version": "1.2.0",
          "model_name": "LayoutModel",
          "state": {
            "_model_module": "@jupyter-widgets/base",
            "_model_module_version": "1.2.0",
            "_model_name": "LayoutModel",
            "_view_count": null,
            "_view_module": "@jupyter-widgets/base",
            "_view_module_version": "1.2.0",
            "_view_name": "LayoutView",
            "align_content": null,
            "align_items": null,
            "align_self": null,
            "border": null,
            "bottom": null,
            "display": null,
            "flex": null,
            "flex_flow": null,
            "grid_area": null,
            "grid_auto_columns": null,
            "grid_auto_flow": null,
            "grid_auto_rows": null,
            "grid_column": null,
            "grid_gap": null,
            "grid_row": null,
            "grid_template_areas": null,
            "grid_template_columns": null,
            "grid_template_rows": null,
            "height": null,
            "justify_content": null,
            "justify_items": null,
            "left": null,
            "margin": null,
            "max_height": null,
            "max_width": null,
            "min_height": null,
            "min_width": null,
            "object_fit": null,
            "object_position": null,
            "order": null,
            "overflow": null,
            "overflow_x": null,
            "overflow_y": null,
            "padding": null,
            "right": null,
            "top": null,
            "visibility": null,
            "width": null
          }
        },
        "864d448419da4711936a0e584c96964b": {
          "model_module": "@jupyter-widgets/controls",
          "model_module_version": "1.5.0",
          "model_name": "ProgressStyleModel",
          "state": {
            "_model_module": "@jupyter-widgets/controls",
            "_model_module_version": "1.5.0",
            "_model_name": "ProgressStyleModel",
            "_view_count": null,
            "_view_module": "@jupyter-widgets/base",
            "_view_module_version": "1.2.0",
            "_view_name": "StyleView",
            "bar_color": null,
            "description_width": ""
          }
        },
        "884680a128e24097bd1451a0b1ac3e0a": {
          "model_module": "@jupyter-widgets/controls",
          "model_module_version": "1.5.0",
          "model_name": "DescriptionStyleModel",
          "state": {
            "_model_module": "@jupyter-widgets/controls",
            "_model_module_version": "1.5.0",
            "_model_name": "DescriptionStyleModel",
            "_view_count": null,
            "_view_module": "@jupyter-widgets/base",
            "_view_module_version": "1.2.0",
            "_view_name": "StyleView",
            "description_width": ""
          }
        },
        "8bf6901510d1405ba1e11dbfae99e64f": {
          "model_module": "@jupyter-widgets/base",
          "model_module_version": "1.2.0",
          "model_name": "LayoutModel",
          "state": {
            "_model_module": "@jupyter-widgets/base",
            "_model_module_version": "1.2.0",
            "_model_name": "LayoutModel",
            "_view_count": null,
            "_view_module": "@jupyter-widgets/base",
            "_view_module_version": "1.2.0",
            "_view_name": "LayoutView",
            "align_content": null,
            "align_items": null,
            "align_self": null,
            "border": null,
            "bottom": null,
            "display": null,
            "flex": null,
            "flex_flow": null,
            "grid_area": null,
            "grid_auto_columns": null,
            "grid_auto_flow": null,
            "grid_auto_rows": null,
            "grid_column": null,
            "grid_gap": null,
            "grid_row": null,
            "grid_template_areas": null,
            "grid_template_columns": null,
            "grid_template_rows": null,
            "height": null,
            "justify_content": null,
            "justify_items": null,
            "left": null,
            "margin": null,
            "max_height": null,
            "max_width": null,
            "min_height": null,
            "min_width": null,
            "object_fit": null,
            "object_position": null,
            "order": null,
            "overflow": null,
            "overflow_x": null,
            "overflow_y": null,
            "padding": null,
            "right": null,
            "top": null,
            "visibility": null,
            "width": null
          }
        },
        "8c46c70b058947b488b4d4c9cdfa8b69": {
          "model_module": "@jupyter-widgets/base",
          "model_module_version": "1.2.0",
          "model_name": "LayoutModel",
          "state": {
            "_model_module": "@jupyter-widgets/base",
            "_model_module_version": "1.2.0",
            "_model_name": "LayoutModel",
            "_view_count": null,
            "_view_module": "@jupyter-widgets/base",
            "_view_module_version": "1.2.0",
            "_view_name": "LayoutView",
            "align_content": null,
            "align_items": null,
            "align_self": null,
            "border": null,
            "bottom": null,
            "display": null,
            "flex": null,
            "flex_flow": null,
            "grid_area": null,
            "grid_auto_columns": null,
            "grid_auto_flow": null,
            "grid_auto_rows": null,
            "grid_column": null,
            "grid_gap": null,
            "grid_row": null,
            "grid_template_areas": null,
            "grid_template_columns": null,
            "grid_template_rows": null,
            "height": null,
            "justify_content": null,
            "justify_items": null,
            "left": null,
            "margin": null,
            "max_height": null,
            "max_width": null,
            "min_height": null,
            "min_width": null,
            "object_fit": null,
            "object_position": null,
            "order": null,
            "overflow": null,
            "overflow_x": null,
            "overflow_y": null,
            "padding": null,
            "right": null,
            "top": null,
            "visibility": null,
            "width": null
          }
        },
        "9435679a05a941a792e2474f75978385": {
          "model_module": "@jupyter-widgets/base",
          "model_module_version": "1.2.0",
          "model_name": "LayoutModel",
          "state": {
            "_model_module": "@jupyter-widgets/base",
            "_model_module_version": "1.2.0",
            "_model_name": "LayoutModel",
            "_view_count": null,
            "_view_module": "@jupyter-widgets/base",
            "_view_module_version": "1.2.0",
            "_view_name": "LayoutView",
            "align_content": null,
            "align_items": null,
            "align_self": null,
            "border": null,
            "bottom": null,
            "display": null,
            "flex": null,
            "flex_flow": null,
            "grid_area": null,
            "grid_auto_columns": null,
            "grid_auto_flow": null,
            "grid_auto_rows": null,
            "grid_column": null,
            "grid_gap": null,
            "grid_row": null,
            "grid_template_areas": null,
            "grid_template_columns": null,
            "grid_template_rows": null,
            "height": null,
            "justify_content": null,
            "justify_items": null,
            "left": null,
            "margin": null,
            "max_height": null,
            "max_width": null,
            "min_height": null,
            "min_width": null,
            "object_fit": null,
            "object_position": null,
            "order": null,
            "overflow": null,
            "overflow_x": null,
            "overflow_y": null,
            "padding": null,
            "right": null,
            "top": null,
            "visibility": null,
            "width": null
          }
        },
        "96085e02e4ab4402bae246fb1839c0d3": {
          "model_module": "@jupyter-widgets/base",
          "model_module_version": "1.2.0",
          "model_name": "LayoutModel",
          "state": {
            "_model_module": "@jupyter-widgets/base",
            "_model_module_version": "1.2.0",
            "_model_name": "LayoutModel",
            "_view_count": null,
            "_view_module": "@jupyter-widgets/base",
            "_view_module_version": "1.2.0",
            "_view_name": "LayoutView",
            "align_content": null,
            "align_items": null,
            "align_self": null,
            "border": null,
            "bottom": null,
            "display": null,
            "flex": null,
            "flex_flow": null,
            "grid_area": null,
            "grid_auto_columns": null,
            "grid_auto_flow": null,
            "grid_auto_rows": null,
            "grid_column": null,
            "grid_gap": null,
            "grid_row": null,
            "grid_template_areas": null,
            "grid_template_columns": null,
            "grid_template_rows": null,
            "height": null,
            "justify_content": null,
            "justify_items": null,
            "left": null,
            "margin": null,
            "max_height": null,
            "max_width": null,
            "min_height": null,
            "min_width": null,
            "object_fit": null,
            "object_position": null,
            "order": null,
            "overflow": null,
            "overflow_x": null,
            "overflow_y": null,
            "padding": null,
            "right": null,
            "top": null,
            "visibility": null,
            "width": null
          }
        },
        "973726c0f5e24b1cb48452c97534cb8f": {
          "model_module": "@jupyter-widgets/controls",
          "model_module_version": "1.5.0",
          "model_name": "FloatProgressModel",
          "state": {
            "_dom_classes": [],
            "_model_module": "@jupyter-widgets/controls",
            "_model_module_version": "1.5.0",
            "_model_name": "FloatProgressModel",
            "_view_count": null,
            "_view_module": "@jupyter-widgets/controls",
            "_view_module_version": "1.5.0",
            "_view_name": "ProgressView",
            "bar_style": "success",
            "description": "",
            "description_tooltip": null,
            "layout": "IPY_MODEL_ff237f2ab642427ba2c184031c6b2b5c",
            "max": 124,
            "min": 0,
            "orientation": "horizontal",
            "style": "IPY_MODEL_59948c70bdb44c528e02ba81308a56cc",
            "value": 124
          }
        },
        "9be1debef01a4c818d9272c26f199f52": {
          "model_module": "@jupyter-widgets/base",
          "model_module_version": "1.2.0",
          "model_name": "LayoutModel",
          "state": {
            "_model_module": "@jupyter-widgets/base",
            "_model_module_version": "1.2.0",
            "_model_name": "LayoutModel",
            "_view_count": null,
            "_view_module": "@jupyter-widgets/base",
            "_view_module_version": "1.2.0",
            "_view_name": "LayoutView",
            "align_content": null,
            "align_items": null,
            "align_self": null,
            "border": null,
            "bottom": null,
            "display": null,
            "flex": null,
            "flex_flow": null,
            "grid_area": null,
            "grid_auto_columns": null,
            "grid_auto_flow": null,
            "grid_auto_rows": null,
            "grid_column": null,
            "grid_gap": null,
            "grid_row": null,
            "grid_template_areas": null,
            "grid_template_columns": null,
            "grid_template_rows": null,
            "height": null,
            "justify_content": null,
            "justify_items": null,
            "left": null,
            "margin": null,
            "max_height": null,
            "max_width": null,
            "min_height": null,
            "min_width": null,
            "object_fit": null,
            "object_position": null,
            "order": null,
            "overflow": null,
            "overflow_x": null,
            "overflow_y": null,
            "padding": null,
            "right": null,
            "top": null,
            "visibility": null,
            "width": null
          }
        },
        "9ceb67edf8df4e64ae46e700b71072da": {
          "model_module": "@jupyter-widgets/base",
          "model_module_version": "1.2.0",
          "model_name": "LayoutModel",
          "state": {
            "_model_module": "@jupyter-widgets/base",
            "_model_module_version": "1.2.0",
            "_model_name": "LayoutModel",
            "_view_count": null,
            "_view_module": "@jupyter-widgets/base",
            "_view_module_version": "1.2.0",
            "_view_name": "LayoutView",
            "align_content": null,
            "align_items": null,
            "align_self": null,
            "border": null,
            "bottom": null,
            "display": null,
            "flex": null,
            "flex_flow": null,
            "grid_area": null,
            "grid_auto_columns": null,
            "grid_auto_flow": null,
            "grid_auto_rows": null,
            "grid_column": null,
            "grid_gap": null,
            "grid_row": null,
            "grid_template_areas": null,
            "grid_template_columns": null,
            "grid_template_rows": null,
            "height": null,
            "justify_content": null,
            "justify_items": null,
            "left": null,
            "margin": null,
            "max_height": null,
            "max_width": null,
            "min_height": null,
            "min_width": null,
            "object_fit": null,
            "object_position": null,
            "order": null,
            "overflow": null,
            "overflow_x": null,
            "overflow_y": null,
            "padding": null,
            "right": null,
            "top": null,
            "visibility": null,
            "width": null
          }
        },
        "9ec59d9d599241659315c51f1e2f557b": {
          "model_module": "@jupyter-widgets/controls",
          "model_module_version": "1.5.0",
          "model_name": "DescriptionStyleModel",
          "state": {
            "_model_module": "@jupyter-widgets/controls",
            "_model_module_version": "1.5.0",
            "_model_name": "DescriptionStyleModel",
            "_view_count": null,
            "_view_module": "@jupyter-widgets/base",
            "_view_module_version": "1.2.0",
            "_view_name": "StyleView",
            "description_width": ""
          }
        },
        "a6a0fa0acdd9408c9ff2291cecd0981f": {
          "model_module": "@jupyter-widgets/base",
          "model_module_version": "1.2.0",
          "model_name": "LayoutModel",
          "state": {
            "_model_module": "@jupyter-widgets/base",
            "_model_module_version": "1.2.0",
            "_model_name": "LayoutModel",
            "_view_count": null,
            "_view_module": "@jupyter-widgets/base",
            "_view_module_version": "1.2.0",
            "_view_name": "LayoutView",
            "align_content": null,
            "align_items": null,
            "align_self": null,
            "border": null,
            "bottom": null,
            "display": null,
            "flex": null,
            "flex_flow": null,
            "grid_area": null,
            "grid_auto_columns": null,
            "grid_auto_flow": null,
            "grid_auto_rows": null,
            "grid_column": null,
            "grid_gap": null,
            "grid_row": null,
            "grid_template_areas": null,
            "grid_template_columns": null,
            "grid_template_rows": null,
            "height": null,
            "justify_content": null,
            "justify_items": null,
            "left": null,
            "margin": null,
            "max_height": null,
            "max_width": null,
            "min_height": null,
            "min_width": null,
            "object_fit": null,
            "object_position": null,
            "order": null,
            "overflow": null,
            "overflow_x": null,
            "overflow_y": null,
            "padding": null,
            "right": null,
            "top": null,
            "visibility": null,
            "width": null
          }
        },
        "a6ec6fc5a0624039a6e50b0fef9c0a71": {
          "model_module": "@jupyter-widgets/controls",
          "model_module_version": "1.5.0",
          "model_name": "DescriptionStyleModel",
          "state": {
            "_model_module": "@jupyter-widgets/controls",
            "_model_module_version": "1.5.0",
            "_model_name": "DescriptionStyleModel",
            "_view_count": null,
            "_view_module": "@jupyter-widgets/base",
            "_view_module_version": "1.2.0",
            "_view_name": "StyleView",
            "description_width": ""
          }
        },
        "abf71c210c314691b1bfcbc0491772fe": {
          "model_module": "@jupyter-widgets/base",
          "model_module_version": "1.2.0",
          "model_name": "LayoutModel",
          "state": {
            "_model_module": "@jupyter-widgets/base",
            "_model_module_version": "1.2.0",
            "_model_name": "LayoutModel",
            "_view_count": null,
            "_view_module": "@jupyter-widgets/base",
            "_view_module_version": "1.2.0",
            "_view_name": "LayoutView",
            "align_content": null,
            "align_items": null,
            "align_self": null,
            "border": null,
            "bottom": null,
            "display": null,
            "flex": null,
            "flex_flow": null,
            "grid_area": null,
            "grid_auto_columns": null,
            "grid_auto_flow": null,
            "grid_auto_rows": null,
            "grid_column": null,
            "grid_gap": null,
            "grid_row": null,
            "grid_template_areas": null,
            "grid_template_columns": null,
            "grid_template_rows": null,
            "height": null,
            "justify_content": null,
            "justify_items": null,
            "left": null,
            "margin": null,
            "max_height": null,
            "max_width": null,
            "min_height": null,
            "min_width": null,
            "object_fit": null,
            "object_position": null,
            "order": null,
            "overflow": null,
            "overflow_x": null,
            "overflow_y": null,
            "padding": null,
            "right": null,
            "top": null,
            "visibility": null,
            "width": null
          }
        },
        "af24fc423d1e44359a15565fe4d4aba1": {
          "model_module": "@jupyter-widgets/controls",
          "model_module_version": "1.5.0",
          "model_name": "HBoxModel",
          "state": {
            "_dom_classes": [],
            "_model_module": "@jupyter-widgets/controls",
            "_model_module_version": "1.5.0",
            "_model_name": "HBoxModel",
            "_view_count": null,
            "_view_module": "@jupyter-widgets/controls",
            "_view_module_version": "1.5.0",
            "_view_name": "HBoxView",
            "box_style": "",
            "children": [
              "IPY_MODEL_3afbd438492c4873ba6c99d39b949752",
              "IPY_MODEL_de349f93b59c4cd289aa135d32d17b3e",
              "IPY_MODEL_b8ed2b38fb684eea814889609bf679fb"
            ],
            "layout": "IPY_MODEL_ebddae646de9494f872de523a517d130"
          }
        },
        "b0d397c5d5eb467e9dba76d983e24926": {
          "model_module": "@jupyter-widgets/base",
          "model_module_version": "1.2.0",
          "model_name": "LayoutModel",
          "state": {
            "_model_module": "@jupyter-widgets/base",
            "_model_module_version": "1.2.0",
            "_model_name": "LayoutModel",
            "_view_count": null,
            "_view_module": "@jupyter-widgets/base",
            "_view_module_version": "1.2.0",
            "_view_name": "LayoutView",
            "align_content": null,
            "align_items": null,
            "align_self": null,
            "border": null,
            "bottom": null,
            "display": null,
            "flex": null,
            "flex_flow": null,
            "grid_area": null,
            "grid_auto_columns": null,
            "grid_auto_flow": null,
            "grid_auto_rows": null,
            "grid_column": null,
            "grid_gap": null,
            "grid_row": null,
            "grid_template_areas": null,
            "grid_template_columns": null,
            "grid_template_rows": null,
            "height": null,
            "justify_content": null,
            "justify_items": null,
            "left": null,
            "margin": null,
            "max_height": null,
            "max_width": null,
            "min_height": null,
            "min_width": null,
            "object_fit": null,
            "object_position": null,
            "order": null,
            "overflow": null,
            "overflow_x": null,
            "overflow_y": null,
            "padding": null,
            "right": null,
            "top": null,
            "visibility": null,
            "width": null
          }
        },
        "b14964cdbe8a498480dfc3d304ba0d7b": {
          "model_module": "@jupyter-widgets/controls",
          "model_module_version": "1.5.0",
          "model_name": "FloatProgressModel",
          "state": {
            "_dom_classes": [],
            "_model_module": "@jupyter-widgets/controls",
            "_model_module_version": "1.5.0",
            "_model_name": "FloatProgressModel",
            "_view_count": null,
            "_view_module": "@jupyter-widgets/controls",
            "_view_module_version": "1.5.0",
            "_view_name": "ProgressView",
            "bar_style": "success",
            "description": "",
            "description_tooltip": null,
            "layout": "IPY_MODEL_9ceb67edf8df4e64ae46e700b71072da",
            "max": 1042301,
            "min": 0,
            "orientation": "horizontal",
            "style": "IPY_MODEL_3895f9f23123442aa8625d0317f7d856",
            "value": 1042301
          }
        },
        "b234c5707cb74b76a92507f1de368bfb": {
          "model_module": "@jupyter-widgets/controls",
          "model_module_version": "1.5.0",
          "model_name": "DescriptionStyleModel",
          "state": {
            "_model_module": "@jupyter-widgets/controls",
            "_model_module_version": "1.5.0",
            "_model_name": "DescriptionStyleModel",
            "_view_count": null,
            "_view_module": "@jupyter-widgets/base",
            "_view_module_version": "1.2.0",
            "_view_name": "StyleView",
            "description_width": ""
          }
        },
        "b64a6d701ebd4802be30cda4ed10783e": {
          "model_module": "@jupyter-widgets/base",
          "model_module_version": "1.2.0",
          "model_name": "LayoutModel",
          "state": {
            "_model_module": "@jupyter-widgets/base",
            "_model_module_version": "1.2.0",
            "_model_name": "LayoutModel",
            "_view_count": null,
            "_view_module": "@jupyter-widgets/base",
            "_view_module_version": "1.2.0",
            "_view_name": "LayoutView",
            "align_content": null,
            "align_items": null,
            "align_self": null,
            "border": null,
            "bottom": null,
            "display": null,
            "flex": null,
            "flex_flow": null,
            "grid_area": null,
            "grid_auto_columns": null,
            "grid_auto_flow": null,
            "grid_auto_rows": null,
            "grid_column": null,
            "grid_gap": null,
            "grid_row": null,
            "grid_template_areas": null,
            "grid_template_columns": null,
            "grid_template_rows": null,
            "height": null,
            "justify_content": null,
            "justify_items": null,
            "left": null,
            "margin": null,
            "max_height": null,
            "max_width": null,
            "min_height": null,
            "min_width": null,
            "object_fit": null,
            "object_position": null,
            "order": null,
            "overflow": null,
            "overflow_x": null,
            "overflow_y": null,
            "padding": null,
            "right": null,
            "top": null,
            "visibility": null,
            "width": null
          }
        },
        "b7d5fef6b5634fa2b33a0a2566d8ce27": {
          "model_module": "@jupyter-widgets/controls",
          "model_module_version": "1.5.0",
          "model_name": "HBoxModel",
          "state": {
            "_dom_classes": [],
            "_model_module": "@jupyter-widgets/controls",
            "_model_module_version": "1.5.0",
            "_model_name": "HBoxModel",
            "_view_count": null,
            "_view_module": "@jupyter-widgets/controls",
            "_view_module_version": "1.5.0",
            "_view_name": "HBoxView",
            "box_style": "",
            "children": [
              "IPY_MODEL_f5e6051d53584f1ba67af09b95f6bd50",
              "IPY_MODEL_534f2d965c8548638293c8cce181eca3",
              "IPY_MODEL_7a3ab257d1f74fbfad760e17a24b6de4"
            ],
            "layout": "IPY_MODEL_a6a0fa0acdd9408c9ff2291cecd0981f"
          }
        },
        "b85f192e77dc4bc8a8053289c1e9b8c9": {
          "model_module": "@jupyter-widgets/controls",
          "model_module_version": "1.5.0",
          "model_name": "HTMLModel",
          "state": {
            "_dom_classes": [],
            "_model_module": "@jupyter-widgets/controls",
            "_model_module_version": "1.5.0",
            "_model_name": "HTMLModel",
            "_view_count": null,
            "_view_module": "@jupyter-widgets/controls",
            "_view_module_version": "1.5.0",
            "_view_name": "HTMLView",
            "description": "",
            "description_tooltip": null,
            "layout": "IPY_MODEL_512f8fb2ca404adfa43933752b5b4990",
            "placeholder": "​",
            "style": "IPY_MODEL_e5dfa372bace44d592dfb6174ede3566",
            "value": "tokenizer_config.json: 100%"
          }
        },
        "b8ed2b38fb684eea814889609bf679fb": {
          "model_module": "@jupyter-widgets/controls",
          "model_module_version": "1.5.0",
          "model_name": "HTMLModel",
          "state": {
            "_dom_classes": [],
            "_model_module": "@jupyter-widgets/controls",
            "_model_module_version": "1.5.0",
            "_model_name": "HTMLModel",
            "_view_count": null,
            "_view_module": "@jupyter-widgets/controls",
            "_view_module_version": "1.5.0",
            "_view_name": "HTMLView",
            "description": "",
            "description_tooltip": null,
            "layout": "IPY_MODEL_7edab73b97574a8b88cb6d2d8895c64b",
            "placeholder": "​",
            "style": "IPY_MODEL_dab2171a31a04d35afa13f4be8e9c93a",
            "value": " 666/666 [00:00&lt;00:00, 56.1kB/s]"
          }
        },
        "bd172de25a83456c901ef268642883ee": {
          "model_module": "@jupyter-widgets/controls",
          "model_module_version": "1.5.0",
          "model_name": "HTMLModel",
          "state": {
            "_dom_classes": [],
            "_model_module": "@jupyter-widgets/controls",
            "_model_module_version": "1.5.0",
            "_model_name": "HTMLModel",
            "_view_count": null,
            "_view_module": "@jupyter-widgets/controls",
            "_view_module_version": "1.5.0",
            "_view_name": "HTMLView",
            "description": "",
            "description_tooltip": null,
            "layout": "IPY_MODEL_abf71c210c314691b1bfcbc0491772fe",
            "placeholder": "​",
            "style": "IPY_MODEL_a6ec6fc5a0624039a6e50b0fef9c0a71",
            "value": " 3.25G/3.25G [00:09&lt;00:00, 314MB/s]"
          }
        },
        "be85927df4874f98a966452726e296e8": {
          "model_module": "@jupyter-widgets/base",
          "model_module_version": "1.2.0",
          "model_name": "LayoutModel",
          "state": {
            "_model_module": "@jupyter-widgets/base",
            "_model_module_version": "1.2.0",
            "_model_name": "LayoutModel",
            "_view_count": null,
            "_view_module": "@jupyter-widgets/base",
            "_view_module_version": "1.2.0",
            "_view_name": "LayoutView",
            "align_content": null,
            "align_items": null,
            "align_self": null,
            "border": null,
            "bottom": null,
            "display": null,
            "flex": null,
            "flex_flow": null,
            "grid_area": null,
            "grid_auto_columns": null,
            "grid_auto_flow": null,
            "grid_auto_rows": null,
            "grid_column": null,
            "grid_gap": null,
            "grid_row": null,
            "grid_template_areas": null,
            "grid_template_columns": null,
            "grid_template_rows": null,
            "height": null,
            "justify_content": null,
            "justify_items": null,
            "left": null,
            "margin": null,
            "max_height": null,
            "max_width": null,
            "min_height": null,
            "min_width": null,
            "object_fit": null,
            "object_position": null,
            "order": null,
            "overflow": null,
            "overflow_x": null,
            "overflow_y": null,
            "padding": null,
            "right": null,
            "top": null,
            "visibility": null,
            "width": null
          }
        },
        "c2f797a8a10f4f39aafef4c19bf106db": {
          "model_module": "@jupyter-widgets/controls",
          "model_module_version": "1.5.0",
          "model_name": "DescriptionStyleModel",
          "state": {
            "_model_module": "@jupyter-widgets/controls",
            "_model_module_version": "1.5.0",
            "_model_name": "DescriptionStyleModel",
            "_view_count": null,
            "_view_module": "@jupyter-widgets/base",
            "_view_module_version": "1.2.0",
            "_view_name": "StyleView",
            "description_width": ""
          }
        },
        "c5550bc06ebe4a37b6789cdaa6329128": {
          "model_module": "@jupyter-widgets/base",
          "model_module_version": "1.2.0",
          "model_name": "LayoutModel",
          "state": {
            "_model_module": "@jupyter-widgets/base",
            "_model_module_version": "1.2.0",
            "_model_name": "LayoutModel",
            "_view_count": null,
            "_view_module": "@jupyter-widgets/base",
            "_view_module_version": "1.2.0",
            "_view_name": "LayoutView",
            "align_content": null,
            "align_items": null,
            "align_self": null,
            "border": null,
            "bottom": null,
            "display": null,
            "flex": null,
            "flex_flow": null,
            "grid_area": null,
            "grid_auto_columns": null,
            "grid_auto_flow": null,
            "grid_auto_rows": null,
            "grid_column": null,
            "grid_gap": null,
            "grid_row": null,
            "grid_template_areas": null,
            "grid_template_columns": null,
            "grid_template_rows": null,
            "height": null,
            "justify_content": null,
            "justify_items": null,
            "left": null,
            "margin": null,
            "max_height": null,
            "max_width": null,
            "min_height": null,
            "min_width": null,
            "object_fit": null,
            "object_position": null,
            "order": null,
            "overflow": null,
            "overflow_x": null,
            "overflow_y": null,
            "padding": null,
            "right": null,
            "top": null,
            "visibility": null,
            "width": null
          }
        },
        "cab34f5c61284ce3ad3010563bda7122": {
          "model_module": "@jupyter-widgets/controls",
          "model_module_version": "1.5.0",
          "model_name": "HTMLModel",
          "state": {
            "_dom_classes": [],
            "_model_module": "@jupyter-widgets/controls",
            "_model_module_version": "1.5.0",
            "_model_name": "HTMLModel",
            "_view_count": null,
            "_view_module": "@jupyter-widgets/controls",
            "_view_module_version": "1.5.0",
            "_view_name": "HTMLView",
            "description": "",
            "description_tooltip": null,
            "layout": "IPY_MODEL_8c46c70b058947b488b4d4c9cdfa8b69",
            "placeholder": "​",
            "style": "IPY_MODEL_c2f797a8a10f4f39aafef4c19bf106db",
            "value": "model.safetensors: 100%"
          }
        },
        "cb8a173015aa4fc9aebc31fd364529c8": {
          "model_module": "@jupyter-widgets/base",
          "model_module_version": "1.2.0",
          "model_name": "LayoutModel",
          "state": {
            "_model_module": "@jupyter-widgets/base",
            "_model_module_version": "1.2.0",
            "_model_name": "LayoutModel",
            "_view_count": null,
            "_view_module": "@jupyter-widgets/base",
            "_view_module_version": "1.2.0",
            "_view_name": "LayoutView",
            "align_content": null,
            "align_items": null,
            "align_self": null,
            "border": null,
            "bottom": null,
            "display": null,
            "flex": null,
            "flex_flow": null,
            "grid_area": null,
            "grid_auto_columns": null,
            "grid_auto_flow": null,
            "grid_auto_rows": null,
            "grid_column": null,
            "grid_gap": null,
            "grid_row": null,
            "grid_template_areas": null,
            "grid_template_columns": null,
            "grid_template_rows": null,
            "height": null,
            "justify_content": null,
            "justify_items": null,
            "left": null,
            "margin": null,
            "max_height": null,
            "max_width": null,
            "min_height": null,
            "min_width": null,
            "object_fit": null,
            "object_position": null,
            "order": null,
            "overflow": null,
            "overflow_x": null,
            "overflow_y": null,
            "padding": null,
            "right": null,
            "top": null,
            "visibility": null,
            "width": null
          }
        },
        "cd39a3042f2843c4916c2047ae6f43b1": {
          "model_module": "@jupyter-widgets/controls",
          "model_module_version": "1.5.0",
          "model_name": "DescriptionStyleModel",
          "state": {
            "_model_module": "@jupyter-widgets/controls",
            "_model_module_version": "1.5.0",
            "_model_name": "DescriptionStyleModel",
            "_view_count": null,
            "_view_module": "@jupyter-widgets/base",
            "_view_module_version": "1.2.0",
            "_view_name": "StyleView",
            "description_width": ""
          }
        },
        "d343920cc98247a8aaa16f48506b1694": {
          "model_module": "@jupyter-widgets/controls",
          "model_module_version": "1.5.0",
          "model_name": "ProgressStyleModel",
          "state": {
            "_model_module": "@jupyter-widgets/controls",
            "_model_module_version": "1.5.0",
            "_model_name": "ProgressStyleModel",
            "_view_count": null,
            "_view_module": "@jupyter-widgets/base",
            "_view_module_version": "1.2.0",
            "_view_name": "StyleView",
            "bar_color": null,
            "description_width": ""
          }
        },
        "d542096ea2d441ba91698399af48a2af": {
          "model_module": "@jupyter-widgets/controls",
          "model_module_version": "1.5.0",
          "model_name": "DescriptionStyleModel",
          "state": {
            "_model_module": "@jupyter-widgets/controls",
            "_model_module_version": "1.5.0",
            "_model_name": "DescriptionStyleModel",
            "_view_count": null,
            "_view_module": "@jupyter-widgets/base",
            "_view_module_version": "1.2.0",
            "_view_name": "StyleView",
            "description_width": ""
          }
        },
        "dab2171a31a04d35afa13f4be8e9c93a": {
          "model_module": "@jupyter-widgets/controls",
          "model_module_version": "1.5.0",
          "model_name": "DescriptionStyleModel",
          "state": {
            "_model_module": "@jupyter-widgets/controls",
            "_model_module_version": "1.5.0",
            "_model_name": "DescriptionStyleModel",
            "_view_count": null,
            "_view_module": "@jupyter-widgets/base",
            "_view_module_version": "1.2.0",
            "_view_name": "StyleView",
            "description_width": ""
          }
        },
        "de349f93b59c4cd289aa135d32d17b3e": {
          "model_module": "@jupyter-widgets/controls",
          "model_module_version": "1.5.0",
          "model_name": "FloatProgressModel",
          "state": {
            "_dom_classes": [],
            "_model_module": "@jupyter-widgets/controls",
            "_model_module_version": "1.5.0",
            "_model_name": "FloatProgressModel",
            "_view_count": null,
            "_view_module": "@jupyter-widgets/controls",
            "_view_module_version": "1.5.0",
            "_view_name": "ProgressView",
            "bar_style": "success",
            "description": "",
            "description_tooltip": null,
            "layout": "IPY_MODEL_ec447ebb8af94a8ab3338cb153f66ff5",
            "max": 666,
            "min": 0,
            "orientation": "horizontal",
            "style": "IPY_MODEL_864d448419da4711936a0e584c96964b",
            "value": 666
          }
        },
        "de85041e44f7432b9c58de466a95968a": {
          "model_module": "@jupyter-widgets/base",
          "model_module_version": "1.2.0",
          "model_name": "LayoutModel",
          "state": {
            "_model_module": "@jupyter-widgets/base",
            "_model_module_version": "1.2.0",
            "_model_name": "LayoutModel",
            "_view_count": null,
            "_view_module": "@jupyter-widgets/base",
            "_view_module_version": "1.2.0",
            "_view_name": "LayoutView",
            "align_content": null,
            "align_items": null,
            "align_self": null,
            "border": null,
            "bottom": null,
            "display": null,
            "flex": null,
            "flex_flow": null,
            "grid_area": null,
            "grid_auto_columns": null,
            "grid_auto_flow": null,
            "grid_auto_rows": null,
            "grid_column": null,
            "grid_gap": null,
            "grid_row": null,
            "grid_template_areas": null,
            "grid_template_columns": null,
            "grid_template_rows": null,
            "height": null,
            "justify_content": null,
            "justify_items": null,
            "left": null,
            "margin": null,
            "max_height": null,
            "max_width": null,
            "min_height": null,
            "min_width": null,
            "object_fit": null,
            "object_position": null,
            "order": null,
            "overflow": null,
            "overflow_x": null,
            "overflow_y": null,
            "padding": null,
            "right": null,
            "top": null,
            "visibility": null,
            "width": null
          }
        },
        "e5dfa372bace44d592dfb6174ede3566": {
          "model_module": "@jupyter-widgets/controls",
          "model_module_version": "1.5.0",
          "model_name": "DescriptionStyleModel",
          "state": {
            "_model_module": "@jupyter-widgets/controls",
            "_model_module_version": "1.5.0",
            "_model_name": "DescriptionStyleModel",
            "_view_count": null,
            "_view_module": "@jupyter-widgets/base",
            "_view_module_version": "1.2.0",
            "_view_name": "StyleView",
            "description_width": ""
          }
        },
        "ea54b3f282184db195845f1fdbc86f9b": {
          "model_module": "@jupyter-widgets/controls",
          "model_module_version": "1.5.0",
          "model_name": "FloatProgressModel",
          "state": {
            "_dom_classes": [],
            "_model_module": "@jupyter-widgets/controls",
            "_model_module_version": "1.5.0",
            "_model_name": "FloatProgressModel",
            "_view_count": null,
            "_view_module": "@jupyter-widgets/controls",
            "_view_module_version": "1.5.0",
            "_view_name": "ProgressView",
            "bar_style": "success",
            "description": "",
            "description_tooltip": null,
            "layout": "IPY_MODEL_b0d397c5d5eb467e9dba76d983e24926",
            "max": 456318,
            "min": 0,
            "orientation": "horizontal",
            "style": "IPY_MODEL_d343920cc98247a8aaa16f48506b1694",
            "value": 456318
          }
        },
        "ea6ab54e02f04d37993b2c4887d5c7ed": {
          "model_module": "@jupyter-widgets/controls",
          "model_module_version": "1.5.0",
          "model_name": "HTMLModel",
          "state": {
            "_dom_classes": [],
            "_model_module": "@jupyter-widgets/controls",
            "_model_module_version": "1.5.0",
            "_model_name": "HTMLModel",
            "_view_count": null,
            "_view_module": "@jupyter-widgets/controls",
            "_view_module_version": "1.5.0",
            "_view_name": "HTMLView",
            "description": "",
            "description_tooltip": null,
            "layout": "IPY_MODEL_4a5a39bfc9f0429a910120e8e3cabe8f",
            "placeholder": "​",
            "style": "IPY_MODEL_4d614251c35b4ab3b9d7214909c80aae",
            "value": " 124/124 [00:00&lt;00:00, 7.46kB/s]"
          }
        },
        "ebddae646de9494f872de523a517d130": {
          "model_module": "@jupyter-widgets/base",
          "model_module_version": "1.2.0",
          "model_name": "LayoutModel",
          "state": {
            "_model_module": "@jupyter-widgets/base",
            "_model_module_version": "1.2.0",
            "_model_name": "LayoutModel",
            "_view_count": null,
            "_view_module": "@jupyter-widgets/base",
            "_view_module_version": "1.2.0",
            "_view_name": "LayoutView",
            "align_content": null,
            "align_items": null,
            "align_self": null,
            "border": null,
            "bottom": null,
            "display": null,
            "flex": null,
            "flex_flow": null,
            "grid_area": null,
            "grid_auto_columns": null,
            "grid_auto_flow": null,
            "grid_auto_rows": null,
            "grid_column": null,
            "grid_gap": null,
            "grid_row": null,
            "grid_template_areas": null,
            "grid_template_columns": null,
            "grid_template_rows": null,
            "height": null,
            "justify_content": null,
            "justify_items": null,
            "left": null,
            "margin": null,
            "max_height": null,
            "max_width": null,
            "min_height": null,
            "min_width": null,
            "object_fit": null,
            "object_position": null,
            "order": null,
            "overflow": null,
            "overflow_x": null,
            "overflow_y": null,
            "padding": null,
            "right": null,
            "top": null,
            "visibility": null,
            "width": null
          }
        },
        "ec447ebb8af94a8ab3338cb153f66ff5": {
          "model_module": "@jupyter-widgets/base",
          "model_module_version": "1.2.0",
          "model_name": "LayoutModel",
          "state": {
            "_model_module": "@jupyter-widgets/base",
            "_model_module_version": "1.2.0",
            "_model_name": "LayoutModel",
            "_view_count": null,
            "_view_module": "@jupyter-widgets/base",
            "_view_module_version": "1.2.0",
            "_view_name": "LayoutView",
            "align_content": null,
            "align_items": null,
            "align_self": null,
            "border": null,
            "bottom": null,
            "display": null,
            "flex": null,
            "flex_flow": null,
            "grid_area": null,
            "grid_auto_columns": null,
            "grid_auto_flow": null,
            "grid_auto_rows": null,
            "grid_column": null,
            "grid_gap": null,
            "grid_row": null,
            "grid_template_areas": null,
            "grid_template_columns": null,
            "grid_template_rows": null,
            "height": null,
            "justify_content": null,
            "justify_items": null,
            "left": null,
            "margin": null,
            "max_height": null,
            "max_width": null,
            "min_height": null,
            "min_width": null,
            "object_fit": null,
            "object_position": null,
            "order": null,
            "overflow": null,
            "overflow_x": null,
            "overflow_y": null,
            "padding": null,
            "right": null,
            "top": null,
            "visibility": null,
            "width": null
          }
        },
        "ec83dd4e6c3c461da065a91cc7adba45": {
          "model_module": "@jupyter-widgets/base",
          "model_module_version": "1.2.0",
          "model_name": "LayoutModel",
          "state": {
            "_model_module": "@jupyter-widgets/base",
            "_model_module_version": "1.2.0",
            "_model_name": "LayoutModel",
            "_view_count": null,
            "_view_module": "@jupyter-widgets/base",
            "_view_module_version": "1.2.0",
            "_view_name": "LayoutView",
            "align_content": null,
            "align_items": null,
            "align_self": null,
            "border": null,
            "bottom": null,
            "display": null,
            "flex": null,
            "flex_flow": null,
            "grid_area": null,
            "grid_auto_columns": null,
            "grid_auto_flow": null,
            "grid_auto_rows": null,
            "grid_column": null,
            "grid_gap": null,
            "grid_row": null,
            "grid_template_areas": null,
            "grid_template_columns": null,
            "grid_template_rows": null,
            "height": null,
            "justify_content": null,
            "justify_items": null,
            "left": null,
            "margin": null,
            "max_height": null,
            "max_width": null,
            "min_height": null,
            "min_width": null,
            "object_fit": null,
            "object_position": null,
            "order": null,
            "overflow": null,
            "overflow_x": null,
            "overflow_y": null,
            "padding": null,
            "right": null,
            "top": null,
            "visibility": null,
            "width": null
          }
        },
        "f5477dbf0abb4af2a50201ab646532c0": {
          "model_module": "@jupyter-widgets/controls",
          "model_module_version": "1.5.0",
          "model_name": "DescriptionStyleModel",
          "state": {
            "_model_module": "@jupyter-widgets/controls",
            "_model_module_version": "1.5.0",
            "_model_name": "DescriptionStyleModel",
            "_view_count": null,
            "_view_module": "@jupyter-widgets/base",
            "_view_module_version": "1.2.0",
            "_view_name": "StyleView",
            "description_width": ""
          }
        },
        "f5e6051d53584f1ba67af09b95f6bd50": {
          "model_module": "@jupyter-widgets/controls",
          "model_module_version": "1.5.0",
          "model_name": "HTMLModel",
          "state": {
            "_dom_classes": [],
            "_model_module": "@jupyter-widgets/controls",
            "_model_module_version": "1.5.0",
            "_model_name": "HTMLModel",
            "_view_count": null,
            "_view_module": "@jupyter-widgets/controls",
            "_view_module_version": "1.5.0",
            "_view_name": "HTMLView",
            "description": "",
            "description_tooltip": null,
            "layout": "IPY_MODEL_b64a6d701ebd4802be30cda4ed10783e",
            "placeholder": "​",
            "style": "IPY_MODEL_2232393916e349deb72bc20ac61c3bd7",
            "value": "tokenizer.json: 100%"
          }
        },
        "f6ce06ee38e54481815974ff06451f24": {
          "model_module": "@jupyter-widgets/controls",
          "model_module_version": "1.5.0",
          "model_name": "HBoxModel",
          "state": {
            "_dom_classes": [],
            "_model_module": "@jupyter-widgets/controls",
            "_model_module_version": "1.5.0",
            "_model_name": "HBoxModel",
            "_view_count": null,
            "_view_module": "@jupyter-widgets/controls",
            "_view_module_version": "1.5.0",
            "_view_name": "HBoxView",
            "box_style": "",
            "children": [
              "IPY_MODEL_b85f192e77dc4bc8a8053289c1e9b8c9",
              "IPY_MODEL_744b41f6f55847e59e4c2985897ebb3f",
              "IPY_MODEL_70eaf260d9994bcab22ab1de76500107"
            ],
            "layout": "IPY_MODEL_cb8a173015aa4fc9aebc31fd364529c8"
          }
        },
        "ff237f2ab642427ba2c184031c6b2b5c": {
          "model_module": "@jupyter-widgets/base",
          "model_module_version": "1.2.0",
          "model_name": "LayoutModel",
          "state": {
            "_model_module": "@jupyter-widgets/base",
            "_model_module_version": "1.2.0",
            "_model_name": "LayoutModel",
            "_view_count": null,
            "_view_module": "@jupyter-widgets/base",
            "_view_module_version": "1.2.0",
            "_view_name": "LayoutView",
            "align_content": null,
            "align_items": null,
            "align_self": null,
            "border": null,
            "bottom": null,
            "display": null,
            "flex": null,
            "flex_flow": null,
            "grid_area": null,
            "grid_auto_columns": null,
            "grid_auto_flow": null,
            "grid_auto_rows": null,
            "grid_column": null,
            "grid_gap": null,
            "grid_row": null,
            "grid_template_areas": null,
            "grid_template_columns": null,
            "grid_template_rows": null,
            "height": null,
            "justify_content": null,
            "justify_items": null,
            "left": null,
            "margin": null,
            "max_height": null,
            "max_width": null,
            "min_height": null,
            "min_width": null,
            "object_fit": null,
            "object_position": null,
            "order": null,
            "overflow": null,
            "overflow_x": null,
            "overflow_y": null,
            "padding": null,
            "right": null,
            "top": null,
            "visibility": null,
            "width": null
          }
        }
      }
    }
  },
  "nbformat": 4,
  "nbformat_minor": 0
}
